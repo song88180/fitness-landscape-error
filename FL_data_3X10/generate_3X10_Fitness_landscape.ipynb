{
 "cells": [
  {
   "cell_type": "code",
   "execution_count": 1,
   "id": "e94f59f7",
   "metadata": {},
   "outputs": [],
   "source": [
    "import os\n",
    "import sys\n",
    "import numpy as np\n",
    "import numpy.random as nrand\n",
    "import pandas as pd\n",
    "import matplotlib.pyplot as plt\n",
    "import pickle\n",
    "import scipy\n",
    "import scipy.sparse.linalg\n",
    "from scipy.linalg import hadamard\n",
    "from scipy.sparse import csr_matrix\n",
    "currentdir = os.path.abspath('')\n",
    "targetdir = os.path.dirname(currentdir)+'/utils'\n",
    "sys.path.append(targetdir)\n",
    "from utils import *"
   ]
  },
  {
   "cell_type": "code",
   "execution_count": 2,
   "id": "d567fd26",
   "metadata": {},
   "outputs": [],
   "source": [
    "model = 'NK' # Type of theoretical landscape model: 'NK', 'RMF', 'Polynomial'\n",
    "N = 10 # Number of variable sites: 5, 10, 15\n",
    "metric = 'open_ratio' # Type of metrics: 'N_max', 'epi', 'r_s', 'open_ratio','E', 'gamma', 'adptwalk_steps', 'adptwalk_probs'\n"
   ]
  },
  {
   "cell_type": "code",
   "execution_count": 357,
   "id": "3756bd1b",
   "metadata": {},
   "outputs": [],
   "source": [
    "# Load plotting data that contain ruggedness information\n",
    "with open(f'../2_Effect_of_Measurement_Error/plot_data/plot_df_{model}_{N}_{metric}.pkl','rb') as f:\n",
    "    plot_df = pickle.load(f)\n",
    "    \n",
    "ruggedness_list = plot_df[plot_df['std'] == 0.02][f'{metric}_T'].to_numpy().reshape(100,10)"
   ]
  },
  {
   "cell_type": "code",
   "execution_count": 359,
   "id": "95c9ae7c",
   "metadata": {},
   "outputs": [
    {
     "data": {
      "text/plain": [
       "(array([ 4.,  1.,  7., 19.,  9., 19., 26., 29., 44., 49., 64., 68., 58.,\n",
       "        52., 66., 50., 51., 47., 48., 40., 29., 22., 49., 58., 41., 27.,\n",
       "         5.,  6.,  5.,  7.]),\n",
       " array([2.85558853, 2.95139147, 3.04719441, 3.14299735, 3.23880029,\n",
       "        3.33460324, 3.43040618, 3.52620912, 3.62201206, 3.717815  ,\n",
       "        3.81361795, 3.90942089, 4.00522383, 4.10102677, 4.19682971,\n",
       "        4.29263266, 4.3884356 , 4.48423854, 4.58004148, 4.67584443,\n",
       "        4.77164737, 4.86745031, 4.96325325, 5.05905619, 5.15485914,\n",
       "        5.25066208, 5.34646502, 5.44226796, 5.5380709 , 5.63387385,\n",
       "        5.72967679]),\n",
       " <a list of 30 Patch objects>)"
      ]
     },
     "execution_count": 359,
     "metadata": {},
     "output_type": "execute_result"
    },
    {
     "data": {
      "image/png": "[encoded data removed]",
      "text/plain": [
       "<Figure size 432x288 with 1 Axes>"
      ]
     },
     "metadata": {
      "needs_background": "light"
     },
     "output_type": "display_data"
    }
   ],
   "source": [
    "# View the overall distribution of ruggedness\n",
    "plt.hist(ruggedness_list.flatten(),bins=30)"
   ]
  },
  {
   "cell_type": "code",
   "execution_count": 360,
   "id": "46b26a26",
   "metadata": {},
   "outputs": [
    {
     "name": "stdout",
     "output_type": "stream",
     "text": [
      "[3.59109578 3.80349412 4.26421569 4.95127202]\n"
     ]
    }
   ],
   "source": [
    "# choose three levels of ruggedness according to 10th, 20th, 50th, and 80th percentile.\n",
    "print(np.percentile(ruggedness_list.flatten(),[10,20,50,80]))"
   ]
  },
  {
   "cell_type": "code",
   "execution_count": 369,
   "id": "0b828e34",
   "metadata": {},
   "outputs": [],
   "source": [
    "Landscape_list_3X10 = {}"
   ]
  },
  {
   "cell_type": "code",
   "execution_count": 380,
   "id": "fb0354e2",
   "metadata": {},
   "outputs": [
    {
     "name": "stdout",
     "output_type": "stream",
     "text": [
      "13\n"
     ]
    }
   ],
   "source": [
    "# Manually select fitness landscapes according to their ruggedness\n",
    "# Adjust mean and d until there are enough qualified FLs. \n",
    "mean = 5\n",
    "d = 0.008\n",
    "row,column = np.where((ruggedness_list<=mean+d) & (ruggedness_list>=mean-d))\n",
    "print(len(row))\n",
    "idx_list = nrand.choice(len(row),10,replace = False)"
   ]
  },
  {
   "cell_type": "code",
   "execution_count": 381,
   "id": "04d0176c",
   "metadata": {},
   "outputs": [],
   "source": [
    "# Select those FLs\n",
    "tmp_list = []\n",
    "for idx in idx_list:\n",
    "    tmp_list.append(NK_landscape_list[row[idx]+1][column[idx]])"
   ]
  },
  {
   "cell_type": "code",
   "execution_count": 382,
   "id": "b56c5fd2",
   "metadata": {},
   "outputs": [],
   "source": [
    "# Attach to FL list\n",
    "Landscape_list_3X10[1] = tmp_list"
   ]
  },
  {
   "cell_type": "code",
   "execution_count": 55,
   "id": "4c9eacac",
   "metadata": {},
   "outputs": [],
   "source": [
    "# with open(f'../FL_data_3X10/{model}{N}_{metric}_landscape_3X10.pkl','wb') as f:\n",
    "#     pickle.dump(Landscape_list_3X10,f)"
   ]
  }
 ],
 "metadata": {
  "kernelspec": {
   "display_name": "Python 3",
   "language": "python",
   "name": "python3"
  },
  "language_info": {
   "codemirror_mode": {
    "name": "ipython",
    "version": 3
   },
   "file_extension": ".py",
   "mimetype": "text/x-python",
   "name": "python",
   "nbconvert_exporter": "python",
   "pygments_lexer": "ipython3",
   "version": "3.8.8"
  }
 },
 "nbformat": 4,
 "nbformat_minor": 5
}
