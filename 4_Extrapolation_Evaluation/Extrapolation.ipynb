{
 "cells": [
  {
   "cell_type": "code",
   "execution_count": 1,
   "metadata": {},
   "outputs": [
    {
     "name": "stderr",
     "output_type": "stream",
     "text": [
      "In /home/siliang/usr/miniconda3/lib/python3.7/site-packages/matplotlib/mpl-data/stylelib/_classic_test.mplstyle: \n",
      "The savefig.frameon rcparam was deprecated in Matplotlib 3.1 and will be removed in 3.3.\n",
      "In /home/siliang/usr/miniconda3/lib/python3.7/site-packages/matplotlib/mpl-data/stylelib/_classic_test.mplstyle: \n",
      "The verbose.level rcparam was deprecated in Matplotlib 3.1 and will be removed in 3.3.\n",
      "In /home/siliang/usr/miniconda3/lib/python3.7/site-packages/matplotlib/mpl-data/stylelib/_classic_test.mplstyle: \n",
      "The verbose.fileo rcparam was deprecated in Matplotlib 3.1 and will be removed in 3.3.\n"
     ]
    }
   ],
   "source": [
    "import numpy as np\n",
    "import numpy.random as nrand\n",
    "import pandas as pd\n",
    "import pickle\n",
    "import copy\n",
    "import matplotlib.pyplot as plt\n",
    "from itertools import combinations\n",
    "from matplotlib.ticker import FormatStrFormatter\n",
    "from scipy.optimize import curve_fit\n",
    "import itertools\n",
    "from sklearn.linear_model import LinearRegression\n",
    "import uncertainties as unc\n",
    "import uncertainties.unumpy as unp\n",
    "from multiprocessing import Pool"
   ]
  },
  {
   "cell_type": "code",
   "execution_count": 2,
   "metadata": {},
   "outputs": [],
   "source": [
    "N_list = [5,10,15]\n",
    "model_list = ['NK','RMF','Polynomial']\n",
    "metric_list = ['N_max','epi','r_s','open_ratio']"
   ]
  },
  {
   "cell_type": "code",
   "execution_count": 3,
   "metadata": {},
   "outputs": [],
   "source": [
    "all_df = pd.DataFrame()\n",
    "for N in N_list:\n",
    "    for model in model_list:\n",
    "        for metric in metric_list:\n",
    "            with open(f'./raw_data/{model}{N}_{metric}_raw.pkl', 'rb') as f:\n",
    "                res_dict = pickle.load(f)\n",
    "            res_dict = pd.DataFrame(res_dict)\n",
    "            all_df = pd.concat([all_df,res_dict],ignore_index=True)\n"
   ]
  },
  {
   "cell_type": "code",
   "execution_count": 4,
   "metadata": {},
   "outputs": [],
   "source": [
    "# Turn open_ratio to blocked_ratio\n",
    "raw_dict_list = []\n",
    "for idx,row in all_df.iterrows():\n",
    "    if row['metric'] == 'open_ratio':\n",
    "        all_df.loc[idx,'metric'] = 'blocked_ratio'\n",
    "        all_df.loc[idx,'ground_truth'] = 1- row['ground_truth']\n",
    "        raw_dict = {}\n",
    "        for i in range(row['replication']):\n",
    "            raw_dict[i+1] = [1-k for k in row['raw'][i+1]]\n",
    "    else:\n",
    "        raw_dict = row['raw']\n",
    "    raw_dict_list.append(raw_dict)\n",
    "all_df.loc[:,'raw'] = raw_dict_list"
   ]
  },
  {
   "cell_type": "code",
   "execution_count": null,
   "metadata": {},
   "outputs": [],
   "source": [
    "# Add averaged_ruggedness\n",
    "averaged_ruggedness = []\n",
    "for i,item in all_df.iterrows():\n",
    "    averaged_ruggedness.append(item['raw'][int(item['replication'])][0])\n",
    "all_df['averaged_ruggedness'] = averaged_ruggedness"
   ]
  },
  {
   "cell_type": "code",
   "execution_count": null,
   "metadata": {},
   "outputs": [],
   "source": [
    "# Pre-calculate convex_concave information for replication of 3.\n",
    "convex_concave = []\n",
    "for i,item in all_df.iterrows():\n",
    "    if item['replication'] == 3:\n",
    "        if np.mean(item['raw'][1]) + np.mean(item['raw'][3]) >= 2*np.mean(item['raw'][2]):\n",
    "            convex_concave.append('concave')\n",
    "        else:\n",
    "            convex_concave.append('convex')\n",
    "    else:\n",
    "        convex_concave.append(None)\n",
    "all_df['convex_concave'] = convex_concave"
   ]
  },
  {
   "cell_type": "code",
   "execution_count": null,
   "metadata": {},
   "outputs": [],
   "source": [
    "# Holling type III response curve\n",
    "def func(x, a, b, c):\n",
    "    return a*x**2/(a*b*x**2+1)+c\n",
    "\n",
    "# SSE of model from mean\n",
    "def SSE(popt,ruggedness_dict,rep):\n",
    "    return sum((func(np.array([1/np.sqrt(i) for i in range(1,rep+1)]), *popt)-\\\n",
    "                np.array([np.mean(ruggedness_dict[i]) for i in range(1,rep+1)]))**2)"
   ]
  },
  {
   "cell_type": "code",
   "execution_count": null,
   "metadata": {},
   "outputs": [],
   "source": [
    "# Fitting Holling type III response model to the averaged data points.\n",
    "def fit_raw(ruggedness_dict,rep):\n",
    "    xdata = [1/np.sqrt(i) for i in range(1,rep+1)]\n",
    "    ydata = [np.mean(ruggedness_dict[i]) for i in range(1,rep+1)]\n",
    "    \n",
    "    popt,pcov = curve_fit(func, xdata, ydata,maxfev=100000,bounds=([0,0,0],[np.inf,np.inf,np.inf]))\n",
    "    sse = SSE(popt,ruggedness_dict,rep)\n",
    "        \n",
    "    return popt,pcov,sse"
   ]
  },
  {
   "cell_type": "code",
   "execution_count": null,
   "metadata": {},
   "outputs": [],
   "source": [
    "def worker(idx):\n",
    "    \n",
    "    # A: alpha, B: beta, C: delta\n",
    "    res_dict = {'prediction':[],'prediction_std':[],'fitting_sse':[],'popt':[],'pcov':[],'A':[],'B':[],'C':[]}\n",
    "    \n",
    "    for i in range(idx*650,(idx+1)*650):\n",
    "        \n",
    "        # Stop loop once reached the upper limit 15586\n",
    "        if i >= 15586:\n",
    "            break\n",
    "            \n",
    "        print(i)\n",
    "        raw_data = all_df.loc[i,'raw']\n",
    "        rep = all_df.loc[i,'replication']\n",
    "        groundt = all_df.loc[i,'ground_truth']\n",
    "        popt,pcov,sse = fit_raw(raw_data,rep)\n",
    "        \n",
    "        # Don't calculate prediction std, SEE, and covariance matrix if there are only 3 replicates.\n",
    "        if rep == 3:\n",
    "            y0_nom = func(0, *popt)\n",
    "            y0_std = -1.0\n",
    "            sse = -1.0\n",
    "            pcov = -1.0\n",
    "        else:\n",
    "            a,b,c = unc.correlated_values(popt,pcov)\n",
    "            y0 = func(0, a, b, c)\n",
    "            y0_nom = float(unp.nominal_values(y0))\n",
    "            y0_std = float(unp.std_devs(y0))\n",
    "\n",
    "        res_dict['prediction'].append(y0_nom)\n",
    "        res_dict['prediction_std'].append(y0_std)\n",
    "        res_dict['fitting_sse'].append(sse)\n",
    "        res_dict['popt'].append(popt)\n",
    "        res_dict['pcov'].append(pcov)\n",
    "        res_dict['A'].append(np.mean(all_df.loc[i,\"raw\"][1]) - groundt)\n",
    "        res_dict['B'].append(all_df.loc[i,\"raw\"][rep][0] - groundt)\n",
    "        res_dict['C'].append(y0_nom - groundt)\n",
    "        \n",
    "    return pd.DataFrame(res_dict)\n",
    "    \n",
    "    "
   ]
  },
  {
   "cell_type": "code",
   "execution_count": null,
   "metadata": {},
   "outputs": [],
   "source": [
    "with Pool(24) as p:\n",
    "    res_df = p.map(worker, range(24))\n",
    "res_df = pd.concat(res_df,ignore_index=True)\n",
    "all_df = pd.concat([all_df, res_df],axis=1)"
   ]
  },
  {
   "cell_type": "code",
   "execution_count": null,
   "metadata": {},
   "outputs": [],
   "source": [
    "# Uncomment only if you want to overwrite extrapolation_result.pkl.\n",
    "#with open('extrapolation_result.pkl','wb') as f:\n",
    "#    pickle.dump(all_df,f)"
   ]
  }
 ],
 "metadata": {
  "kernelspec": {
   "display_name": "Python 3",
   "language": "python",
   "name": "python3"
  },
  "language_info": {
   "codemirror_mode": {
    "name": "ipython",
    "version": 3
   },
   "file_extension": ".py",
   "mimetype": "text/x-python",
   "name": "python",
   "nbconvert_exporter": "python",
   "pygments_lexer": "ipython3",
   "version": "3.7.4"
  }
 },
 "nbformat": 4,
 "nbformat_minor": 2
}
