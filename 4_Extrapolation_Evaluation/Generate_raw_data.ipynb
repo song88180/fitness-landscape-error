{
 "cells": [
  {
   "cell_type": "code",
   "execution_count": null,
   "metadata": {},
   "outputs": [],
   "source": [
    "import os\n",
    "import sys\n",
    "import numpy as np\n",
    "import numpy.random as nrand\n",
    "import pandas as pd\n",
    "import pickle\n",
    "import copy\n",
    "import matplotlib.pyplot as plt\n",
    "from itertools import combinations\n",
    "from matplotlib.ticker import FormatStrFormatter\n",
    "import scipy\n",
    "import scipy.sparse.linalg\n",
    "from scipy.linalg import hadamard\n",
    "from scipy.optimize import curve_fit\n",
    "import itertools\n",
    "from sklearn.linear_model import LinearRegression\n",
    "currentdir = os.path.abspath('')\n",
    "targetdir = os.path.dirname(currentdir)+'/utils'\n",
    "sys.path.append(targetdir)\n",
    "from utils import *"
   ]
  },
  {
   "cell_type": "code",
   "execution_count": null,
   "metadata": {},
   "outputs": [],
   "source": [
    "def get_distribution(landscape,measurement_std,rep):\n",
    "    fitness_rep = []\n",
    "    for _ in range(rep):\n",
    "        fitness_rep.append(Add_Error(landscape,measurement_std))\n",
    "    fitness_rep = np.array(fitness_rep)\n",
    "\n",
    "    duplicates_list = list(range(rep))\n",
    "    ruggedness_dict = {i:[] for i in range(1,rep+1)}\n",
    "    tmplate = copy.deepcopy(landscape)\n",
    "    for duplication in range(1,rep+1):\n",
    "        if duplication == 1:\n",
    "            iter_list = duplicates_list\n",
    "            for replicate in iter_list:\n",
    "                ruggedness_dict[duplication].append(get_ruggedness(fitness_rep[replicate]))\n",
    "        else:\n",
    "            iter_list = combinations(duplicates_list,duplication)   \n",
    "            for replicate in iter_list:\n",
    "                tmplate[:,N] = np.average(fitness_rep[list(replicate),:,N],axis=0)\n",
    "                ruggedness_dict[duplication].append(get_ruggedness(tmplate))\n",
    "\n",
    "    ground_truth = get_ruggedness(landscape)\n",
    "    return ground_truth,ruggedness_dict"
   ]
  },
  {
   "cell_type": "code",
   "execution_count": null,
   "metadata": {
    "scrolled": false
   },
   "outputs": [],
   "source": [
    "model_list = ['Polynomial'] # Type of theoretical landscape model: 'NK', 'RMF', 'Polynomial'\n",
    "N_list = [5,10,15] # Number of variable sites: 5, 10, 15\n",
    "metric_list = ['N_max', 'epi', 'r_s', 'open_ratio','E', 'gamma', 'adptwalk_steps', 'adptwalk_probs']\n",
    "    # Type of metrics: 'N_max', 'epi', 'r_s', 'open_ratio','E', 'gamma', 'adptwalk_steps', 'adptwalk_probs'\n",
    "\n",
    "for N in N_list:\n",
    "    print(f\"N:{N}\")\n",
    "    load_pregenerated_data(N)\n",
    "    \n",
    "    for model in model_list:\n",
    "        print(f\"  model:{model}\")\n",
    "\n",
    "        for metric in metric_list:\n",
    "            print(f\"    {metric}\")\n",
    "            with open(f'../FL_data_3X10/{model}{N}_{metric}_landscape_3X10.pkl', 'rb') as f:\n",
    "                landscape_list = pickle.load(f)\n",
    "            \n",
    "            get_ruggedness = get_ruggedness_function(metric,N,gt_code=landscape_list[1][0][:,:N])\n",
    "            \n",
    "            res_dict = {i:[] for i in ['ground_truth','N_site','model','replication',\n",
    "                           'metric','ruggedness','measurement_std','landscape_rep','error_rep','raw']}\n",
    "\n",
    "            for ruggedness in range(1,4):\n",
    "                for landscape_rep in range(3):\n",
    "                    landscape = landscape_list[ruggedness][landscape_rep]\n",
    "                    for measurement_std in [0.1/3*i for i in [1,2,3,4]]:\n",
    "                        for error_rep in range(3):\n",
    "                            for rep in [3,4,5,6]:\n",
    "                                print(f'{ruggedness}:{landscape_rep}:{measurement_std}:{error_rep}:{error_rep}:{rep}')\n",
    "                                ground_truth,raw = get_distribution(landscape,measurement_std,rep)\n",
    "                                res_dict['ground_truth'].append(ground_truth)\n",
    "                                res_dict['N_site'].append(N)\n",
    "                                res_dict['model'].append(model)\n",
    "                                res_dict['replication'].append(rep)\n",
    "                                res_dict['metric'].append(metric)\n",
    "                                res_dict['ruggedness'].append(ruggedness)\n",
    "                                res_dict['measurement_std'].append(measurement_std)\n",
    "                                res_dict['landscape_rep'].append(landscape_rep)\n",
    "                                res_dict['error_rep'].append(error_rep)\n",
    "                                res_dict['raw'].append(raw)\n",
    "            \n",
    "            with open(f'raw_data/{model}{N}_{metric}_raw.pkl', 'wb') as f:\n",
    "                pickle.dump(res_dict,f)\n",
    "\n",
    "            \n",
    "            "
   ]
  }
 ],
 "metadata": {
  "kernelspec": {
   "display_name": "Python 3",
   "language": "python",
   "name": "python3"
  },
  "language_info": {
   "codemirror_mode": {
    "name": "ipython",
    "version": 3
   },
   "file_extension": ".py",
   "mimetype": "text/x-python",
   "name": "python",
   "nbconvert_exporter": "python",
   "pygments_lexer": "ipython3",
   "version": "3.8.8"
  }
 },
 "nbformat": 4,
 "nbformat_minor": 2
}
