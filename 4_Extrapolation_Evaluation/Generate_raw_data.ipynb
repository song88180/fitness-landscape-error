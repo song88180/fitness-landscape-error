{
 "cells": [
  {
   "cell_type": "code",
   "execution_count": null,
   "metadata": {},
   "outputs": [],
   "source": [
    "import numpy as np\n",
    "import numpy.random as nrand\n",
    "import pandas as pd\n",
    "import pickle\n",
    "import copy\n",
    "import matplotlib.pyplot as plt\n",
    "from itertools import combinations\n",
    "from matplotlib.ticker import FormatStrFormatter\n",
    "from scipy.optimize import curve_fit\n",
    "import itertools\n",
    "from sklearn.linear_model import LinearRegression"
   ]
  },
  {
   "cell_type": "code",
   "execution_count": null,
   "metadata": {},
   "outputs": [],
   "source": [
    "# Change parameters to select fitness landscape and metric for analysis.\n",
    "\n",
    "N = 10\n",
    "model = 'Polynomial' #['NK','RMF','Polynomial']\n",
    "metric = 'open_ratio' #['N_max','epi','r_s','open_ratio']"
   ]
  },
  {
   "cell_type": "code",
   "execution_count": null,
   "metadata": {},
   "outputs": [],
   "source": [
    "with open(f'../FL_data_3X10/{model}{N}_{metric}_landscape_3X10.pkl', 'rb') as f:\n",
    "    landscape_dict = pickle.load(f)\n",
    "\n",
    "if N == 5:\n",
    "    with open('../index_file/epi_list_5s_all.pkl', 'rb') as f:\n",
    "        epi_list = pickle.load(f)\n",
    "    with open(f'../index_file/pathway_list_5s_all.pkl', 'rb') as f:\n",
    "        pathway_list = pickle.load(f)\n",
    "elif N == 10:\n",
    "    with open('../index_file/epi_list_10s_all.pkl', 'rb') as f:\n",
    "        epi_list = pickle.load(f)\n",
    "    with open(f'../index_file/pathway_list_10s_120000.pkl', 'rb') as f:\n",
    "        pathway_list = pickle.load(f)\n",
    "elif N == 15:\n",
    "    with open('../index_file/epi_list_15s_200000.pkl', 'rb') as f:\n",
    "        epi_list = pickle.load(f)\n",
    "    with open(f'../index_file/pathway_list_15s_240000.pkl', 'rb') as f:\n",
    "        pathway_list = pickle.load(f)\n",
    "    with open(f'../index_file/N_max_list_15s_all.pkl', 'rb') as f:\n",
    "        neighbor_list = pickle.load(f)\n",
    "\n",
    "\n"
   ]
  },
  {
   "cell_type": "code",
   "execution_count": null,
   "metadata": {},
   "outputs": [],
   "source": [
    "Power_key = np.power(2, np.arange(N - 1, -1, -1))"
   ]
  },
  {
   "cell_type": "code",
   "execution_count": null,
   "metadata": {},
   "outputs": [],
   "source": [
    "def Add_Error(landscape,std):\n",
    "    landscape_error = copy.deepcopy(landscape)\n",
    "    landscape_error[:,N] += np.random.normal(0,std,landscape_error.shape[0])\n",
    "    return landscape_error"
   ]
  },
  {
   "cell_type": "code",
   "execution_count": null,
   "metadata": {},
   "outputs": [],
   "source": [
    "def get_N_max(landscape):\n",
    "    N_max = 0\n",
    "    for gt in landscape:\n",
    "        seq = gt[0:N]\n",
    "        fit = gt[N]\n",
    "        flag = True\n",
    "        #print(f'gt:{gt}')\n",
    "        for i,_ in enumerate(seq):\n",
    "            seq_ = copy.deepcopy(seq)\n",
    "            seq_[i] = 1 - seq_[i]\n",
    "            tmp = ''.join(seq_.astype(int).astype(str))\n",
    "            idx = int(tmp, 2)\n",
    "            #print(f'neighbor:{fitness_landscape[idx]}')\n",
    "            fit_ = landscape[idx,N]\n",
    "            if fit < fit_:\n",
    "                flag = False\n",
    "                break\n",
    "        if flag == True:\n",
    "            N_max += 1\n",
    "    return N_max\n",
    "\n",
    "def get_N_max_15(landscape):\n",
    "    return np.sum(np.max(landscape[neighbor_list][:,:,-1],axis=1) == landscape[neighbor_list[:,0]][:,-1])\n",
    "\n",
    "def cal_epi(landscape):\n",
    "    epi_fit_list = landscape[epi_list][:,:,-1]\n",
    "    n_epi = np.sum(np.sum(epi_fit_list[:,[0,0,3,3]] > epi_fit_list[:,[1,2,1,2]],axis=1)==4)\n",
    "    return n_epi/len(epi_fit_list)\n",
    "    #return total_open/2580480\n",
    "\n",
    "def cal_r_s(landscape):\n",
    "    X = landscape[:,:N]\n",
    "    y = landscape[:,-1]\n",
    "    reg = LinearRegression().fit(X, y)\n",
    "    y_predict = reg.predict(landscape[:,:N])\n",
    "    roughness = np.sqrt(np.mean(np.square(y - y_predict)))\n",
    "    slope = np.mean(np.abs(reg.coef_))\n",
    "    return roughness/slope\n",
    "\n",
    "def cal_open_ratio(landscape):\n",
    "    pathway_fit_list = landscape[pathway_list][:,:,-1]\n",
    "    total_open = np.sum(np.sum(pathway_fit_list[:,0:4]<=pathway_fit_list[:,1:5],axis=1)==pathway_fit_list.shape[1]-1)+\\\n",
    "    np.sum(np.sum(pathway_fit_list[:,0:4]<=pathway_fit_list[:,1:5],axis=1)==0)\n",
    "    return total_open/len(pathway_list)\n",
    "    #return total_open/2580480\n"
   ]
  },
  {
   "cell_type": "code",
   "execution_count": null,
   "metadata": {},
   "outputs": [],
   "source": [
    "if metric == 'N_max':\n",
    "    if N == 15:\n",
    "        get_ruggedness = get_N_max_15\n",
    "    else:\n",
    "        get_ruggedness = get_N_max\n",
    "\n",
    "elif metric == 'r_s':\n",
    "    get_ruggedness = cal_r_s\n",
    "\n",
    "elif metric == 'epi':\n",
    "    get_ruggedness = cal_epi\n",
    "\n",
    "elif metric == 'open_ratio':\n",
    "    get_ruggedness = cal_open_ratio"
   ]
  },
  {
   "cell_type": "code",
   "execution_count": null,
   "metadata": {},
   "outputs": [],
   "source": [
    "def get_distribution(landscape,measurement_std,rep):\n",
    "    fitness_rep = []\n",
    "    for _ in range(rep):\n",
    "        fitness_rep.append(Add_Error(landscape,measurement_std))\n",
    "    fitness_rep = np.array(fitness_rep)\n",
    "\n",
    "    duplicates_list = list(range(rep))\n",
    "    ruggedness_dict = {i:[] for i in range(1,rep+1)}\n",
    "    tmplate = copy.deepcopy(landscape)\n",
    "    for duplication in range(1,rep+1):\n",
    "        if duplication == 1:\n",
    "            iter_list = duplicates_list\n",
    "            for replicate in iter_list:\n",
    "                ruggedness_dict[duplication].append(get_ruggedness(fitness_rep[replicate]))\n",
    "        else:\n",
    "            iter_list = combinations(duplicates_list,duplication)   \n",
    "            for replicate in iter_list:\n",
    "                tmplate[:,N] = np.average(fitness_rep[list(replicate),:,N],axis=0)\n",
    "                ruggedness_dict[duplication].append(get_ruggedness(tmplate))\n",
    "\n",
    "    ground_truth = get_ruggedness(landscape)\n",
    "    return ground_truth,ruggedness_dict"
   ]
  },
  {
   "cell_type": "code",
   "execution_count": null,
   "metadata": {},
   "outputs": [],
   "source": [
    "res_dict = {i:[] for i in ['ground_truth','N_site','model','replication',\n",
    "                           'metric','ruggedness','measurement_std','landscape_rep','error_rep','raw']}"
   ]
  },
  {
   "cell_type": "code",
   "execution_count": null,
   "metadata": {},
   "outputs": [],
   "source": [
    "for ruggedness in range(1,4):\n",
    "    for landscape_rep in range(3):\n",
    "        landscape = landscape_dict[ruggedness][landscape_rep]\n",
    "        for measurement_std in [0.1/3*i for i in [1,2,3,4]]:\n",
    "            for error_rep in range(3):\n",
    "                for rep in [3,4,5,6]:\n",
    "                    print(f'{ruggedness}:{landscape_rep}:{measurement_std}:{error_rep}:{error_rep}:{rep}')\n",
    "                    ground_truth,raw = get_distribution(landscape,measurement_std,rep)\n",
    "                    res_dict['ground_truth'].append(ground_truth)\n",
    "                    res_dict['N_site'].append(N)\n",
    "                    res_dict['model'].append(model)\n",
    "                    res_dict['replication'].append(rep)\n",
    "                    res_dict['metric'].append(metric)\n",
    "                    res_dict['ruggedness'].append(ruggedness)\n",
    "                    res_dict['measurement_std'].append(measurement_std)\n",
    "                    res_dict['landscape_rep'].append(landscape_rep)\n",
    "                    res_dict['error_rep'].append(error_rep)\n",
    "                    res_dict['raw'].append(raw)"
   ]
  },
  {
   "cell_type": "code",
   "execution_count": null,
   "metadata": {},
   "outputs": [],
   "source": [
    "with open(f'raw_data/{model}{N}_{metric}_raw.pkl', 'wb') as f:\n",
    "    pickle.dump(res_dict,f)"
   ]
  }
 ],
 "metadata": {
  "kernelspec": {
   "display_name": "Python 3",
   "language": "python",
   "name": "python3"
  },
  "language_info": {
   "codemirror_mode": {
    "name": "ipython",
    "version": 3
   },
   "file_extension": ".py",
   "mimetype": "text/x-python",
   "name": "python",
   "nbconvert_exporter": "python",
   "pygments_lexer": "ipython3",
   "version": "3.7.4"
  }
 },
 "nbformat": 4,
 "nbformat_minor": 2
}
