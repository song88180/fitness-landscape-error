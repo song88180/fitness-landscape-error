{
 "cells": [
  {
   "cell_type": "code",
   "execution_count": null,
   "metadata": {},
   "outputs": [],
   "source": [
    "import sys\n",
    "import os\n",
    "import numpy as np\n",
    "import numpy.random as nrand\n",
    "import pandas as pd\n",
    "import matplotlib.pyplot as plt\n",
    "import pickle\n",
    "import copy\n",
    "import multiprocessing\n",
    "from sklearn.linear_model import LinearRegression\n",
    "import scipy\n",
    "from scipy.linalg import hadamard\n",
    "import itertools\n",
    "import time\n",
    "from scipy.sparse import csr_matrix\n",
    "currentdir = os.path.abspath('')\n",
    "targetdir = os.path.dirname(currentdir)+'/utils'\n",
    "sys.path.append(targetdir)\n",
    "from utils import *"
   ]
  },
  {
   "cell_type": "code",
   "execution_count": 1,
   "metadata": {},
   "outputs": [],
   "source": [
    "def worker(start):\n",
    "    \"\"\"\n",
    "    Worker function used for multithreading.\n",
    "    start: the index of the global FL list showing where to start analysis.\n",
    "    \"\"\"\n",
    "    plot_dict = {f'{metric}_T':[],f'{metric}_E':[],'std':[]}\n",
    "    error_list = [0.02,0.04,0.06,0.08] # introduce measurement error of different level\n",
    "    for i in range(start+1,start+11):\n",
    "        #print(i)\n",
    "        for j in range(10):\n",
    "            # Calculate ruggedness of the True FL\n",
    "            ruggedness_T = get_ruggedness(NK_landscape_list[i][j])\n",
    "            for k in error_list:\n",
    "                # Introduce measurement error\n",
    "                NK_landscape_error = Add_Error(NK_landscape_list[i][j],k) \n",
    "                # Calculate ruggedness of Observed FL (with measurement error)\n",
    "                ruggedness_E = get_ruggedness(NK_landscape_error)\n",
    "                # Record std, ruggedness of Ture and Observed FL for plotting\n",
    "                plot_dict[f'{metric}_T'].append(ruggedness_T)\n",
    "                plot_dict[f'{metric}_E'].append(ruggedness_E)\n",
    "                plot_dict['std'].append(k)\n",
    "    plot_df = pd.DataFrame(plot_dict)\n",
    "    return plot_df"
   ]
  },
  {
   "cell_type": "code",
   "execution_count": null,
   "metadata": {
    "scrolled": false
   },
   "outputs": [],
   "source": [
    "model_list = ['NK','RMF','Polynomial'] # Type of theoretical landscape model: 'NK', 'RMF', 'Polynomial'\n",
    "N_list = [5] # Number of variable sites: 5, 10, 15\n",
    "metric_list = ['N_max', 'epi', 'r_s', 'open_ratio','E', 'gamma', 'adptwalk_steps', 'adptwalk_probs']\n",
    "    # Type of metrics: 'N_max', 'epi', 'r_s', 'open_ratio','E', 'gamma', 'adptwalk_steps', 'adptwalk_probs'\n",
    "\n",
    "for N in N_list:\n",
    "    print(f\"N:{N}\")\n",
    "    load_pregenerated_data(N)\n",
    "    \n",
    "    for model in model_list:\n",
    "        print(f\"  model:{model}\")\n",
    "        # Load pre-generated Fitness landscapes\n",
    "        with open(f'../FL_data_100X10/{model}_{N}_landscape_list_100X10.pkl', 'rb') as f:\n",
    "            NK_landscape_list = pickle.load(f)\n",
    "\n",
    "        for metric in metric_list:\n",
    "            print(f\"    {metric}\")\n",
    "            # Get the ruggendess function for calculating specific ruggedness measure\n",
    "            get_ruggedness = get_ruggedness_function(metric,N,gt_code=NK_landscape_list[1][0][:,:N])\n",
    "            # Multithreading\n",
    "            jobs = []\n",
    "            with multiprocessing.Pool(10) as p:\n",
    "                res_list = p.map(worker, [i*10 for i in range(10)])\n",
    "            # Gather data\n",
    "            plot_df = pd.concat(res_list)\n",
    "            \n",
    "            # Uncomment only if you want to overwrite plot data files in plot_data folder.\n",
    "            # with open(f'./plot_data/plot_df_{model}_{N}_{metric}.pkl','wb') as f:\n",
    "            #     pickle.dump(plot_df,f)"
   ]
  }
 ],
 "metadata": {
  "kernelspec": {
   "display_name": "Python 3",
   "language": "python",
   "name": "python3"
  },
  "language_info": {
   "codemirror_mode": {
    "name": "ipython",
    "version": 3
   },
   "file_extension": ".py",
   "mimetype": "text/x-python",
   "name": "python",
   "nbconvert_exporter": "python",
   "pygments_lexer": "ipython3",
   "version": "3.8.8"
  }
 },
 "nbformat": 4,
 "nbformat_minor": 4
}
