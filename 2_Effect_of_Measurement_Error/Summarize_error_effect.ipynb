{
 "cells": [
  {
   "cell_type": "code",
   "execution_count": null,
   "metadata": {},
   "outputs": [],
   "source": [
    "import numpy as np\n",
    "import numpy.random as nrand\n",
    "import pandas as pd\n",
    "import pickle\n",
    "import matplotlib.pyplot as plt\n",
    "import matplotlib.gridspec as gridspec"
   ]
  },
  {
   "cell_type": "code",
   "execution_count": null,
   "metadata": {},
   "outputs": [],
   "source": [
    "model_list = ['NK','RMF','Polynomial']\n",
    "metric_list = ['N_max','epi','r_s','open_ratio']\n",
    "N_list = [5,10,15]\n",
    "error_list = [0.02,0.04,0.06,0.08]"
   ]
  },
  {
   "cell_type": "code",
   "execution_count": null,
   "metadata": {},
   "outputs": [],
   "source": [
    "plot_dict = {N: {model: {metric: {} for metric in metric_list} for model in model_list} for N in N_list}\n",
    "for N in N_list:\n",
    "    for model in model_list:\n",
    "        for metric in metric_list:\n",
    "            with open(f'plot_data/plot_df_{model}_{N}_{metric}.pkl', 'rb') as f:\n",
    "                plot_dict[N][model][metric] = pickle.load(f)"
   ]
  },
  {
   "cell_type": "code",
   "execution_count": null,
   "metadata": {},
   "outputs": [],
   "source": [
    "para_dict = {\n",
    "    5:{\n",
    "        'NK':{\n",
    "            'N_max':{'j':[1,8],'sd':1,'lim':[0,10],'labelpad':15},#\n",
    "            'epi':{'j':[0,12],'sd':0.02,'lim':[0,0.3],'labelpad':22},#\n",
    "            'r_s':{'j':[0,6],'sd':0.8,'lim':[0,10],'labelpad':13},#\n",
    "            'open_ratio':{'j':[0,16],'sd':0.008,'lim':[0,0.15],'labelpad':30}\n",
    "        },\n",
    "        'RMF':{\n",
    "            'N_max':{'j':[1,8],'sd':1,'lim':[0,10],'labelpad':15},#\n",
    "            'epi':{'j':[0,12],'sd':0.02,'lim':[0,0.3],'labelpad':22},#\n",
    "            'r_s':{'j':[0,8],'sd':0.8,'lim':[0,10],'labelpad':13},#\n",
    "            'open_ratio':{'j':[0,16],'sd':0.008,'lim':[0,0.15],'labelpad':30}\n",
    "        },\n",
    "        'Polynomial':{\n",
    "            'N_max':{'j':[0,4],'sd':1,'lim':[0,10],'labelpad':15}, #\n",
    "            'epi':{'j':[0,8],'sd':0.01,'lim':[0,0.3],'labelpad':22},#\n",
    "            'r_s':{'j':[0,8],'sd':0.2,'lim':[0,4],'labelpad':13},#\n",
    "            'open_ratio':{'j':[3,18],'sd':0.008,'lim':[0,0.15],'labelpad':30}\n",
    "        }\n",
    "    },\n",
    "    10:{\n",
    "        'NK':{\n",
    "            'N_max':{'j':[0,20],'sd':5,'lim':[0,110],'labelpad':20}, #\n",
    "            'epi':{'j':[0,12],'sd':0.02,'lim':[0,0.2],'labelpad':30},#\n",
    "            'r_s':{'j':[0,10],'sd':2,'lim':[0,20],'labelpad':13},#\n",
    "            'open_ratio':{'j':[0,16],'sd':0.008,'lim':[0,0.15],'labelpad':30}\n",
    "        },\n",
    "        'RMF':{\n",
    "            'N_max':{'j':[0,20],'sd':5,'lim':[0,110],'labelpad':20}, #\n",
    "            'epi':{'j':[0,12],'sd':0.02,'lim':[0,0.2],'labelpad':30},#\n",
    "            'r_s':{'j':[0,10],'sd':2,'lim':[0,20],'labelpad':13},#\n",
    "            'open_ratio':{'j':[0,16],'sd':0.008,'lim':[0,0.15],'labelpad':30}\n",
    "        },\n",
    "        'Polynomial':{\n",
    "            'N_max':{'j':[1,10],'sd':1,'lim':[0,75],'labelpad':20},#\n",
    "            'epi':{'j':[0,8],'sd':0.01,'lim':[0,0.2],'labelpad':30},#\n",
    "            'r_s':{'j':[0,10],'sd':0.3,'lim':[0,4],'labelpad':13},#\n",
    "            'open_ratio':{'j':[8,18],'sd':0.008,'lim':[0,0.15],'labelpad':30}\n",
    "        }\n",
    "    },\n",
    "    15:{\n",
    "        'NK':{\n",
    "            'N_max':{'j':[-1,9],'sd':250,'lim':[0,2300],'labelpad':40},#\n",
    "            'epi':{'j':[0,12],'sd':0.02,'lim':[0,0.2],'labelpad':35},#\n",
    "            'r_s':{'j':[0,13],'sd':10,'lim':[0,150],'labelpad':25},#\n",
    "            'open_ratio':{'j':[0,16],'sd':0.008,'lim':[0,0.15],'labelpad':30}\n",
    "        },\n",
    "        'RMF':{\n",
    "            'N_max':{'j':[0,18],'sd':150,'lim':[0,2300],'labelpad':40},#\n",
    "            'epi':{'j':[0,12],'sd':0.02,'lim':[0,0.2],'labelpad':35},#\n",
    "            'r_s':{'j':[0,22],'sd':0.5,'lim':[0,15],'labelpad':13},#\n",
    "            'open_ratio':{'j':[0,16],'sd':0.008,'lim':[0,0.15],'labelpad':30}\n",
    "        },\n",
    "        'Polynomial':{\n",
    "            'N_max':{'j':[0,20],'sd':1,'lim':[0,1500],'labelpad':40},#\n",
    "            'epi':{'j':[0,8],'sd':0.01,'lim':[0,0.2],'labelpad':35},#\n",
    "            'r_s':{'j':[0,12],'sd':0.3,'lim':[0,5],'labelpad':13},#\n",
    "            'open_ratio':{'j':[10,18],'sd':0.008,'lim':[0,0.15],'labelpad':30}\n",
    "        }\n",
    "    }\n",
    "}"
   ]
  },
  {
   "cell_type": "code",
   "execution_count": null,
   "metadata": {},
   "outputs": [],
   "source": [
    "def get_mean_df(plot_df,N,model,metric):\n",
    "    mean_dict = {f'{metric}_T':[],f'{metric}_E_mean':[],'std':[]}\n",
    "    sd = para_dict[N][model][metric]['sd']\n",
    "    for i in error_list:\n",
    "        plot_df_ = plot_df[plot_df['std']==i]\n",
    "        for j in range(*para_dict[N][model][metric]['j']):\n",
    "            mean_E = np.mean(plot_df_[(plot_df_[f'{metric}_T']<=(j+1)*sd) & (plot_df_[f'{metric}_T']>=j*sd)][f'{metric}_E'])\n",
    "            mean_dict[f'{metric}_T'].append((j+0.5)*sd)\n",
    "            mean_dict['std'].append(i)\n",
    "            mean_dict[f'{metric}_E_mean'].append(mean_E)\n",
    "    return pd.DataFrame(mean_dict) "
   ]
  },
  {
   "cell_type": "code",
   "execution_count": null,
   "metadata": {
    "scrolled": false
   },
   "outputs": [],
   "source": [
    "'''\n",
    "def draw_by_metric(metric):\n",
    "    fig = plt.figure(figsize=(30, 30))\n",
    "    outer = gridspec.GridSpec(3, 3, wspace=0.2, hspace=0.2)\n",
    "\n",
    "    i=0\n",
    "\n",
    "    for ax_idx,model in enumerate(model_list):\n",
    "        ax = fig.add_subplot(3,1,ax_idx+1)\n",
    "        ax.set_ylabel(f'{model} model',size=30,labelpad=50)\n",
    "        ax.spines['top'].set_color('none')\n",
    "        ax.spines['bottom'].set_color('none')\n",
    "        ax.spines['left'].set_color('none')\n",
    "        ax.spines['right'].set_color('none')\n",
    "        ax.tick_params(labelcolor='w', top=False, bottom=False, left=False, right=False)\n",
    "\n",
    "    for ax_idx,N in enumerate(N_list):\n",
    "        ax = fig.add_subplot(1,3,ax_idx+1)\n",
    "        ax.set_xlabel(f'N = {N}',size=30,labelpad=50)\n",
    "        ax.spines['top'].set_color('none')\n",
    "        ax.spines['bottom'].set_color('none')\n",
    "        ax.spines['left'].set_color('none')\n",
    "        ax.spines['right'].set_color('none')\n",
    "        ax.tick_params(labelcolor='w', top=False, bottom=False, left=False, right=False)\n",
    "\n",
    "    for ax_idx in range(1,10):\n",
    "        N = N_list[ax_idx%3-1]\n",
    "        model = model_list[(ax_idx-1)//3]\n",
    "        ax = fig.add_subplot(3,3,ax_idx)\n",
    "        if ax_idx%3 == 0:\n",
    "            labelpad = 40\n",
    "        elif ax_idx%3 == 1:\n",
    "            labelpad = 15\n",
    "        elif ax_idx%3 == 2:\n",
    "            labelpad = 20\n",
    "        ax.set_ylabel(f'{metric} of measured fitness landscape',size=20,labelpad=para_dict[N][model][metric]['labelpad'])\n",
    "        ax.set_xlabel(f'{metric} of true fitness landscape',size=20,labelpad=16)\n",
    "        ax.spines['top'].set_color('none')\n",
    "        ax.spines['bottom'].set_color('none')\n",
    "        ax.spines['left'].set_color('none')\n",
    "        ax.spines['right'].set_color('none')\n",
    "        ax.tick_params(labelcolor='w', top=False, bottom=False, left=False, right=False)\n",
    "\n",
    "    for model in model_list:\n",
    "        for N in N_list:\n",
    "            inner = gridspec.GridSpecFromSubplotSpec(2, 2,\n",
    "                            subplot_spec=outer[i], wspace=0.15, hspace=0.15)\n",
    "            plot_df = plot_dict[N][model][metric]\n",
    "            mean_df = get_mean_df(plot_df,N,model,metric)\n",
    "            lim = para_dict[N][model][metric]['lim']\n",
    "            for j,std in enumerate(error_list):\n",
    "                ax = plt.Subplot(fig, inner[j])\n",
    "                ax.scatter(x=f'{metric}_T',y=f'{metric}_E',alpha=0.2, data=plot_df[plot_df['std']==std],label=None,s=10)\n",
    "                mean_df_ = mean_df[mean_df['std']==std]\n",
    "                ax.plot(mean_df_[f'{metric}_T'],mean_df_[f'{metric}_E_mean'],'r-',label=f'std {std}')\n",
    "                ax.plot(lim,lim,'black',linewidth=2)\n",
    "                if metric == 'open_ratio':\n",
    "                    #ax.set_xticks([0, 0.05, 0.1, 0.15])\n",
    "                    ax.set_xticklabels(['0', '0.05', '0.1', '0.15'])\n",
    "                ax.set_title(f'std = {std}',fontsize=25)\n",
    "                ax.label_outer()\n",
    "                ax.set_ylim(lim)\n",
    "                ax.set_xlim(lim)\n",
    "                ax.tick_params(labelsize=20)\n",
    "                \n",
    "                fig.add_subplot(ax)\n",
    "            i+=1\n",
    "    fig.show()\n",
    "'''"
   ]
  },
  {
   "cell_type": "code",
   "execution_count": null,
   "metadata": {
    "scrolled": true
   },
   "outputs": [],
   "source": [
    "# Stratified by metrics, Figs not shown in the paper\n",
    "# draw_by_metric('N_max')"
   ]
  },
  {
   "cell_type": "code",
   "execution_count": null,
   "metadata": {
    "scrolled": true
   },
   "outputs": [],
   "source": [
    "# Stratified by metrics, Figs not shown in the paper\n",
    "# draw_by_metric('epi')"
   ]
  },
  {
   "cell_type": "code",
   "execution_count": null,
   "metadata": {
    "scrolled": true
   },
   "outputs": [],
   "source": [
    "# Stratified by metrics, Figs not shown in the paper\n",
    "# draw_by_metric('r_s')"
   ]
  },
  {
   "cell_type": "code",
   "execution_count": null,
   "metadata": {
    "scrolled": true
   },
   "outputs": [],
   "source": [
    "# Stratified by metrics, Figs not shown in the paper\n",
    "# draw_by_metric('open_ratio')"
   ]
  },
  {
   "cell_type": "code",
   "execution_count": null,
   "metadata": {},
   "outputs": [],
   "source": [
    "ruggedness_measure_dict = {'N_max':'$N_{max}$','epi':'$F_{rse}$','r_s':'$r/s$','open_ratio':'$F_{bp}$'}"
   ]
  },
  {
   "cell_type": "code",
   "execution_count": null,
   "metadata": {},
   "outputs": [],
   "source": [
    "def draw_N(N):\n",
    "    fig = plt.figure(figsize=(30, 40))\n",
    "    outer = gridspec.GridSpec(4, 3, wspace=0.2, hspace=0.2)\n",
    "\n",
    "    i=0\n",
    "\n",
    "    for ax_idx,model in enumerate(model_list):\n",
    "        ax = fig.add_subplot(1,3,ax_idx+1)\n",
    "        ax.set_title(f'{model}',size=40, pad=35)\n",
    "        ax.spines['top'].set_color('none')\n",
    "        ax.spines['bottom'].set_color('none')\n",
    "        ax.spines['left'].set_color('none')\n",
    "        ax.spines['right'].set_color('none')\n",
    "        ax.tick_params(labelcolor='w', top=False, bottom=False, left=False, right=False)\n",
    "\n",
    "    for ax_idx in range(1,13):\n",
    "        model = model_list[(ax_idx-1)%3]\n",
    "        metric = metric_list[(ax_idx-1)//3]\n",
    "        ax = fig.add_subplot(4,3,ax_idx)\n",
    "        if ax_idx%3 == 0:\n",
    "            labelpad = 40\n",
    "        elif ax_idx%3 == 1:\n",
    "            labelpad = 15\n",
    "        elif ax_idx%3 == 2:\n",
    "            labelpad = 20\n",
    "        if ax_idx%3 == 1:\n",
    "            ax.set_ylabel(f'Inferred {ruggedness_measure_dict[metric]}',size=25,labelpad=para_dict[N][model][metric]['labelpad'])\n",
    "            ax.set_xlabel(f'True {ruggedness_measure_dict[metric]}',size=25,labelpad=16)\n",
    "        ax.spines['top'].set_color('none')\n",
    "        ax.spines['bottom'].set_color('none')\n",
    "        ax.spines['left'].set_color('none')\n",
    "        ax.spines['right'].set_color('none')\n",
    "        ax.tick_params(labelcolor='w', top=False, bottom=False, left=False, right=False)\n",
    "    for metric in metric_list:\n",
    "        for model in model_list:\n",
    "            inner = gridspec.GridSpecFromSubplotSpec(2, 2,\n",
    "                            subplot_spec=outer[i], wspace=0.15, hspace=0.15)\n",
    "            plot_df = plot_dict[N][model][metric]\n",
    "            mean_df = get_mean_df(plot_df,N,model,metric)\n",
    "            lim = para_dict[N][model][metric]['lim']\n",
    "            if metric == 'open_ratio':\n",
    "                lim = [1-lim[1],1-lim[0]]\n",
    "                \n",
    "            for j,std in enumerate(error_list):\n",
    "                ax = plt.Subplot(fig, inner[j])\n",
    "                if metric == 'open_ratio':\n",
    "                    ax.scatter(x=1-plot_df[plot_df['std']==std]['open_ratio_T'],\\\n",
    "                               y=1-plot_df[plot_df['std']==std]['open_ratio_E'],\\\n",
    "                               alpha=0.2,label=None,s=10)\n",
    "                    mean_df_ = 1 - mean_df[mean_df['std']==std]\n",
    "                    ax.set_xticks([0.85,0.9,0.95,1])\n",
    "                    ax.set_xticklabels(['0.85', '0.9', '0.95', '1'])\n",
    "                else:\n",
    "                    ax.scatter(x=f'{metric}_T',y=f'{metric}_E',alpha=0.2, data=plot_df[plot_df['std']==std],label=None,s=10)\n",
    "                    mean_df_ = mean_df[mean_df['std']==std]\n",
    "                ax.plot(mean_df_[f'{metric}_T'],mean_df_[f'{metric}_E_mean'],'r-',label=f'std {std}')\n",
    "                ax.plot(lim,lim,'black',linewidth=2)\n",
    "                \n",
    "                ax.text(0.02, 0.98, f'sd = {std}', horizontalalignment='left',\n",
    "                        verticalalignment='top', transform=ax.transAxes, fontsize=25)\n",
    "                ax.label_outer()\n",
    "                ax.set_ylim(lim)\n",
    "                ax.set_xlim(lim)\n",
    "                ax.tick_params(labelsize=20)\n",
    "                \n",
    "                fig.add_subplot(ax)\n",
    "            i+=1\n",
    "    fig.show()"
   ]
  },
  {
   "cell_type": "code",
   "execution_count": null,
   "metadata": {
    "scrolled": false
   },
   "outputs": [],
   "source": [
    "draw_N(10)"
   ]
  },
  {
   "cell_type": "code",
   "execution_count": null,
   "metadata": {
    "scrolled": false
   },
   "outputs": [],
   "source": [
    "draw_N(5)"
   ]
  },
  {
   "cell_type": "code",
   "execution_count": null,
   "metadata": {},
   "outputs": [],
   "source": [
    "draw_N(15)"
   ]
  },
  {
   "cell_type": "code",
   "execution_count": null,
   "metadata": {},
   "outputs": [],
   "source": [
    "'''\n",
    "def draw_separate(metric):\n",
    "    N = 10\n",
    "    fig = plt.figure(figsize = [25,20])\n",
    "    \n",
    "    for ax_idx,model in enumerate(model_list):\n",
    "        ax = fig.add_subplot(3,1,ax_idx+1)\n",
    "        ax.spines['top'].set_color('none')\n",
    "        ax.spines['bottom'].set_color('none')\n",
    "        ax.spines['left'].set_color('none')\n",
    "        ax.spines['right'].set_color('none')\n",
    "        ax.tick_params(labelcolor='w', top=False, bottom=False, left=False, right=False)\n",
    "        ax.set_ylabel(f'{model}',size=30,labelpad=70)\n",
    "\n",
    "    for ax_idx,std in enumerate(error_list):\n",
    "        ax = fig.add_subplot(1,4,ax_idx+1)\n",
    "        ax.spines['top'].set_color('none')\n",
    "        ax.spines['bottom'].set_color('none')\n",
    "        ax.spines['left'].set_color('none')\n",
    "        ax.spines['right'].set_color('none')\n",
    "        ax.tick_params(labelcolor='w', top=False, bottom=False, left=False, right=False)\n",
    "        ax.set_xlabel(f'std = {std}',size=30,labelpad=50)\n",
    "    \n",
    "    for row,model in enumerate(model_list):\n",
    "        for column,std in enumerate(error_list):\n",
    "            ax = fig.add_subplot(3,4,row*4+column+1)\n",
    "            plot_df = plot_dict[N][model][metric]\n",
    "            mean_df = get_mean_df(plot_df,N,model,metric)\n",
    "            lim = para_dict[N][model][metric]['lim']\n",
    "\n",
    "            ax.scatter(x=f'{metric}_T',y=f'{metric}_E',alpha=0.2, data=plot_df[plot_df['std']==std],label=None,s=10)\n",
    "            mean_df_ = mean_df[mean_df['std']==std]\n",
    "            ax.plot(mean_df_[f'{metric}_T'],mean_df_[f'{metric}_E_mean'],'r-',label=f'std {std}')\n",
    "            ax.plot(lim,lim,'black',linewidth=2)\n",
    "            if metric == 'open_ratio':\n",
    "                ax.set_xticklabels(['0', '0.05', '0.1', '0.15'])\n",
    "            ax.set_xlabel(f'std = {std}',fontsize=25)\n",
    "            ax.set_ylabel(model, fontsize=25)\n",
    "            ax.set_ylabel(f'{metric} (measured)',size=20,labelpad=para_dict[N][model][metric]['labelpad']-25)\n",
    "            ax.set_xlabel(f'{metric} (ground true)',size=20,labelpad=8)\n",
    "            ax.label_outer()\n",
    "            ax.set_ylim(lim)\n",
    "            ax.set_xlim(lim)\n",
    "            ax.tick_params(labelsize=20)\n",
    "            ax\n",
    "    plt.subplots_adjust(\n",
    "        wspace=0.1,\n",
    "        hspace=0.1)\n",
    "    #fig.tight_layout()\n",
    "    fig.show()\n",
    "'''"
   ]
  },
  {
   "cell_type": "code",
   "execution_count": null,
   "metadata": {},
   "outputs": [],
   "source": [
    "# Stratified by metrics, Figs not shown in the paper\n",
    "#draw_separate(\"N_max\")"
   ]
  },
  {
   "cell_type": "code",
   "execution_count": null,
   "metadata": {},
   "outputs": [],
   "source": [
    "# Stratified by metrics, Figs not shown in the paper\n",
    "#draw_separate(\"epi\")"
   ]
  },
  {
   "cell_type": "code",
   "execution_count": null,
   "metadata": {},
   "outputs": [],
   "source": [
    "# Stratified by metrics, Figs not shown in the paper\n",
    "#draw_separate(\"r_s\")"
   ]
  },
  {
   "cell_type": "code",
   "execution_count": null,
   "metadata": {},
   "outputs": [],
   "source": [
    "# Stratified by metrics, Figs not shown in the paper\n",
    "#draw_separate(\"open_ratio\")"
   ]
  }
 ],
 "metadata": {
  "kernelspec": {
   "display_name": "Python 3",
   "language": "python",
   "name": "python3"
  },
  "language_info": {
   "codemirror_mode": {
    "name": "ipython",
    "version": 3
   },
   "file_extension": ".py",
   "mimetype": "text/x-python",
   "name": "python",
   "nbconvert_exporter": "python",
   "pygments_lexer": "ipython3",
   "version": "3.7.4"
  }
 },
 "nbformat": 4,
 "nbformat_minor": 2
}
