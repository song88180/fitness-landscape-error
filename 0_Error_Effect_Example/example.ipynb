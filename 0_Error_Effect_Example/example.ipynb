{
 "cells": [
  {
   "cell_type": "code",
   "execution_count": null,
   "metadata": {},
   "outputs": [],
   "source": [
    "import numpy as np\n",
    "import numpy.random as nrand\n",
    "import pandas as pd\n",
    "import matplotlib.pyplot as plt\n",
    "import pickle\n",
    "import itertools"
   ]
  },
  {
   "cell_type": "code",
   "execution_count": null,
   "metadata": {},
   "outputs": [],
   "source": [
    "# read raw dataset\n",
    "with open(\"../5_Empirical_Extrapolation/trna_Li/All_data_df.pkl\", 'rb') as f:\n",
    "    df = pickle.load(f)"
   ]
  },
  {
   "cell_type": "code",
   "execution_count": null,
   "metadata": {},
   "outputs": [],
   "source": [
    "# create a list that contains 6 genotype sequences in a evolutionary pathway.\n",
    "# This evolutionary pathway is chosen as an example to show the effect of measurement error.\n",
    "gt_list = ['GTTCCGTTAGCGTAATGGTAACGCGTTTCCCTCCTAAGGAGAAGCCTGCGGGTTCGAGTCCCGTACGGAACG',\n",
    "             'GTTCCGTTAGCGTAATGGTAACGCGTCTCCCTCCTAAGGAGAAGCCTGCGGGTTCGAGTCCCGTACGGAACG',\n",
    "             'GTTCCGTTGGCGTAATGGTAACGCGTCTCCCTCCTAAGGAGAAGCCTGCGGGTTCGAGTCCCGTACGGAACG',\n",
    "             'GTTCCGTTGGCGTAATGGTAACGCGTCTCCCTCCTAAGGAGAAGCATGCGGGTTCGAGTCCCGTACGGAACG',\n",
    "             'GTTCCGTTGGCGTAATGGTAACGCGTCTCCCTCCTAAGGAGAAGAATGCGGGTTCGAGTCCCGTACGGAACG',\n",
    "             'GTTCCGTTGGCGTAATGGTAGCGCGTCTCCCTCCTAAGGAGAAGAATGCGGGTTCGAGTCCCGTACGGAACG']\n",
    "\n",
    "# Extract fitness information from the raw dataset for the 6 genotypes.\n",
    "example_df = pd.DataFrame(columns=['Pos','Nuc','Fit','FitS1','FitS2', 'FitS3','FitS4', \n",
    "                                   'FitS5', 'FitS6'])\n",
    "for gt in gt_list:\n",
    "    tmp = df[df['Seq'] == gt][['Pos','Nuc','Fit','FitS1','FitS2', 'FitS3',\n",
    "       'FitS4', 'FitS5', 'FitS6']]\n",
    "    example_df = pd.concat([example_df, tmp])"
   ]
  },
  {
   "cell_type": "code",
   "execution_count": null,
   "metadata": {},
   "outputs": [],
   "source": [
    "# Calculate mean fitness\n",
    "example_df['mean'] = np.mean(example_df.iloc[:,3:],axis=1)\n",
    "\n",
    "# Calculate standard deviation\n",
    "yerr = np.std(example_df.iloc[:,3:],axis=1)\n",
    "\n",
    "# Draw evolutionary pathway of mean fitness and fitness from a single replicate.\n",
    "plt.figure(figsize=(15,10))\n",
    "x = [0,1,2,3,4,5]\n",
    "plt.ylim(0.56,1.06)\n",
    "for i in range(1,7):\n",
    "    plt.plot(x, example_df[f'FitS{i}'],'o-',fillstyle='none',markersize=12)\n",
    "plt.errorbar(x, example_df['mean'], yerr=yerr, fmt='-o',capsize=10,color='black',lw=3,fillstyle='none')\n",
    "plt.xticks(size=20)\n",
    "plt.yticks(size=20)\n",
    "plt.xlabel('Mutational step',size=30)\n",
    "plt.ylabel('Fitness',size=30)\n",
    "\n",
    "plt.savefig('Fig1.pdf')"
   ]
  }
 ],
 "metadata": {
  "kernelspec": {
   "display_name": "Python 3",
   "language": "python",
   "name": "python3"
  },
  "language_info": {
   "codemirror_mode": {
    "name": "ipython",
    "version": 3
   },
   "file_extension": ".py",
   "mimetype": "text/x-python",
   "name": "python",
   "nbconvert_exporter": "python",
   "pygments_lexer": "ipython3",
   "version": "3.8.8"
  }
 },
 "nbformat": 4,
 "nbformat_minor": 2
}
