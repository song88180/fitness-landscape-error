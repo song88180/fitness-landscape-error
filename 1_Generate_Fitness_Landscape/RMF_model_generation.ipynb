{
 "cells": [
  {
   "cell_type": "code",
   "execution_count": 2,
   "metadata": {},
   "outputs": [],
   "source": [
    "import numpy as np\n",
    "import numpy.random as nrand\n",
    "import matplotlib.pyplot as plt\n",
    "import pandas as pd\n",
    "import itertools\n",
    "import copy\n",
    "import pickle\n",
    "import multiprocessing"
   ]
  },
  {
   "cell_type": "code",
   "execution_count": 4,
   "metadata": {},
   "outputs": [],
   "source": [
    "# RMF landscape parameters -----------------------------------------\n",
    "# Change parameters to get fitness landscape of different variable site.\n",
    "# F(gt) = -cD(wt,gt)+N(std)\n",
    "\n",
    "N = 5  # number of variable site\n",
    "c = 1\n",
    "\n",
    "wt = nrand.randint(2,size=N)\n",
    "gt_lst = np.array(list(map(list, itertools.product([0, 1], repeat=N))))"
   ]
  },
  {
   "cell_type": "code",
   "execution_count": 5,
   "metadata": {
    "scrolled": false
   },
   "outputs": [
    {
     "name": "stdout",
     "output_type": "stream",
     "text": [
      "1     \r",
      "3     \r",
      "5     \r",
      "7     \r",
      "9     \r",
      "11     \r",
      "13     \r",
      "15     \r",
      "17     \r",
      "19     \r",
      "21     \r",
      "23     \r",
      "25     \r",
      "27     \r",
      "29     \r",
      "31     \r",
      "33     \r",
      "35     \r",
      "37     \r",
      "39     \r",
      "41     \r",
      "43     \r",
      "45     \r",
      "47     \r",
      "49     \r",
      "51     \r",
      "53     \r",
      "55     \r",
      "57     \r",
      "59     \r",
      "61     \r",
      "63     \r",
      "65     \r",
      "67     \r",
      "69     \r",
      "71     \r",
      "73     \r",
      "75     \r",
      "77     \r",
      "79     \r",
      "81     \r",
      "83     \r",
      "85     \r",
      "87     \r",
      "89     \r",
      "91     \r",
      "93     \r",
      "95     \r",
      "97     \r",
      "99     \r"
     ]
    }
   ],
   "source": [
    "RMF_landscape_list = {i:[] for i in range(1,101)}\n",
    "\n",
    "for idx in range(1,101,2):\n",
    "    print(idx,'    ',end='\\r')\n",
    "    for std in [10/n for n in range(1,21)]:\n",
    "        wt = nrand.randint(2,size=N)\n",
    "        gt_lst = np.array(list(map(list, itertools.product([0, 1], repeat=N))))\n",
    "        fitness_lst = -c*np.sum(wt != gt_lst,axis=1)+nrand.normal(scale=std,size = np.power(2,N))\n",
    "        MIN = np.min(fitness_lst)\n",
    "        MAX = np.max(fitness_lst)\n",
    "        fitness_lst = (fitness_lst - MIN) / (MAX - MIN)\n",
    "        fitness_landscape = np.concatenate((gt_lst,fitness_lst.reshape([-1,1])),axis=1)\n",
    "        if len(RMF_landscape_list[idx]) <10:\n",
    "            RMF_landscape_list[idx].append(fitness_landscape)\n",
    "        else:\n",
    "            RMF_landscape_list[idx+1].append(fitness_landscape)\n"
   ]
  },
  {
   "cell_type": "code",
   "execution_count": 7,
   "metadata": {},
   "outputs": [],
   "source": [
    "with open(f'../FL_data_100X10/RMF_{N}_landscape_list_100X10.pkl','wb') as f:\n",
    "    pickle.dump(RMF_landscape_list,f)"
   ]
  }
 ],
 "metadata": {
  "kernelspec": {
   "display_name": "Python 3",
   "language": "python",
   "name": "python3"
  },
  "language_info": {
   "codemirror_mode": {
    "name": "ipython",
    "version": 3
   },
   "file_extension": ".py",
   "mimetype": "text/x-python",
   "name": "python",
   "nbconvert_exporter": "python",
   "pygments_lexer": "ipython3",
   "version": "3.8.8"
  }
 },
 "nbformat": 4,
 "nbformat_minor": 2
}
