{
 "cells": [
  {
   "cell_type": "code",
   "execution_count": null,
   "metadata": {},
   "outputs": [],
   "source": [
    "import numpy as np\n",
    "import numpy.random as nrand\n",
    "import matplotlib.pyplot as plt\n",
    "import pandas as pd\n",
    "import itertools\n",
    "import copy\n",
    "import pickle\n",
    "import multiprocessing"
   ]
  },
  {
   "cell_type": "code",
   "execution_count": null,
   "metadata": {},
   "outputs": [],
   "source": [
    "# RMF landscape parameters -----------------------------------------\n",
    "# Change parameters to get fitness landscape of different variable site.\n",
    "# F(gt) = -cD(wt,gt)+N(std)\n",
    "\n",
    "N = 10  # number of variable site\n",
    "c = 1\n",
    "std = 100\n",
    "\n",
    "wt = nrand.randint(2,size=N)\n",
    "gt_lst = np.array(list(map(list, itertools.product([0, 1], repeat=N))))"
   ]
  },
  {
   "cell_type": "code",
   "execution_count": null,
   "metadata": {
    "scrolled": false
   },
   "outputs": [],
   "source": [
    "RMF_landscape_list = {i:[] for i in range(1,101)}\n",
    "\n",
    "for idx in range(1,101,2):\n",
    "    print(idx,'    ',end='\\r')\n",
    "    for std in [10/n for n in range(1,21)]:\n",
    "        wt = nrand.randint(2,size=N)\n",
    "        gt_lst = np.array(list(map(list, itertools.product([0, 1], repeat=N))))\n",
    "        fitness_lst = -c*np.sum(wt != gt_lst,axis=1)+nrand.normal(scale=std,size = np.power(2,N))\n",
    "        MIN = np.min(fitness_lst)\n",
    "        MAX = np.max(fitness_lst)\n",
    "        fitness_lst = (fitness_lst - MIN) / (MAX - MIN)\n",
    "        fitness_landscape = np.concatenate((gt_lst,fitness_lst.reshape([-1,1])),axis=1)\n",
    "        if len(RMF_landscape_list[idx]) <10:\n",
    "            RMF_landscape_list[idx].append(fitness_landscape)\n",
    "        else:\n",
    "            RMF_landscape_list[idx+1].append(fitness_landscape)\n"
   ]
  },
  {
   "cell_type": "code",
   "execution_count": null,
   "metadata": {},
   "outputs": [],
   "source": [
    "with open(f'../FL_data_100X10/RMF_{N}_landscape_list_100X10.pkl','wb') as f:\n",
    "    pickle.dump(RMF_landscape_list,f)"
   ]
  }
 ],
 "metadata": {
  "kernelspec": {
   "display_name": "Python 3",
   "language": "python",
   "name": "python3"
  },
  "language_info": {
   "codemirror_mode": {
    "name": "ipython",
    "version": 3
   },
   "file_extension": ".py",
   "mimetype": "text/x-python",
   "name": "python",
   "nbconvert_exporter": "python",
   "pygments_lexer": "ipython3",
   "version": "3.7.4"
  }
 },
 "nbformat": 4,
 "nbformat_minor": 2
}
