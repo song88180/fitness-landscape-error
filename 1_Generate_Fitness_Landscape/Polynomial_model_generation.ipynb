{
 "cells": [
  {
   "cell_type": "code",
   "execution_count": null,
   "metadata": {},
   "outputs": [],
   "source": [
    "import numpy as np\n",
    "import numpy.random as nrand\n",
    "import matplotlib.pyplot as plt\n",
    "import pandas as pd\n",
    "import itertools\n",
    "import copy\n",
    "import pickle\n",
    "import multiprocessing\n",
    "from scipy import special"
   ]
  },
  {
   "cell_type": "markdown",
   "metadata": {},
   "source": [
    "$y=\\sum_{i}^{L}\\beta_ix_i+\\sum_{i<j}\\beta_{ij}x_ix_j+\\sum_{i<j<k}\\beta_{ijk}x_ix_jx_k$  \n",
    "\n",
    "$\\beta_i \\sim N(0,\\sigma_1^2)$  \n",
    "$\\beta_{ij} \\sim N(0,\\sigma_2^2)$  \n",
    "$\\beta_{ijk} \\sim N(0,\\sigma_3^2)$  \n",
    "\n",
    "$\\sigma_1^2=\\sigma^2v_1/L$  \n",
    "$\\sigma_2^2=\\sigma^2v_2/(^{L}_{2})$  \n",
    "$\\sigma_3^2=\\sigma^2v_3/(^{L}_{3})$\n",
    "\n",
    "$v_1$, $v_2$, $v_3$ are fraction of total variance determined by the ith order.  \n",
    "L is the number of sites"
   ]
  },
  {
   "cell_type": "code",
   "execution_count": null,
   "metadata": {},
   "outputs": [],
   "source": [
    "wt = nrand.randint(2,size=N)\n",
    "gt_lst = np.array(list(map(list, itertools.product([0, 1], repeat=N))))"
   ]
  },
  {
   "cell_type": "code",
   "execution_count": null,
   "metadata": {},
   "outputs": [],
   "source": [
    "def get_fit(gt,b1,b2,b3):\n",
    "    fit_1 = np.sum(gt*b1)\n",
    "    gt_2 = np.array([])\n",
    "    for i,row in enumerate(gt*gt.reshape(-1,1)):\n",
    "        gt_2 = np.concatenate([gt_2,row[i+1:]])\n",
    "    fit_2 = np.sum(gt_2*b2)\n",
    "    gt_3 = np.array([])\n",
    "    gt_33 = gt.reshape(-1,1,1)*gt.reshape(1,-1,1)*gt.reshape(1,1,-1)\n",
    "    for pos_1 in range(N-2):\n",
    "        for pos_2 in range(pos_1+1,N-1):\n",
    "            gt_3 = np.concatenate([gt_3,gt_33[pos_1,pos_2,pos_2+1:]])\n",
    "    fit_3 = np.sum(gt_3*b3)\n",
    "    return fit_1+fit_2+fit_3\n",
    "\n",
    "def get_fitness(gt_lst,b1,b2,b3):\n",
    "    fitness_lst = np.array([get_fit(gt,b1,b2,b3) for gt in gt_lst])\n",
    "    MIN = np.min(fitness_lst)\n",
    "    MAX = np.max(fitness_lst)\n",
    "    fitness_lst = (fitness_lst - MIN) / (MAX - MIN)\n",
    "    return fitness_lst\n",
    "\n"
   ]
  },
  {
   "cell_type": "code",
   "execution_count": null,
   "metadata": {},
   "outputs": [],
   "source": [
    "# NK landscape parameters -----------------------------------------\n",
    "# Change parameters to get fitness landscape of different variable site.\n",
    "\n",
    "N = 10  # number of variable site\n"
   ]
  },
  {
   "cell_type": "code",
   "execution_count": null,
   "metadata": {},
   "outputs": [],
   "source": [
    "def normalize(array):\n",
    "    MAX = np.max(array)\n",
    "    MIN = np.min(array)\n",
    "    return (array - MIN)/(MAX - MIN)"
   ]
  },
  {
   "cell_type": "code",
   "execution_count": null,
   "metadata": {
    "scrolled": false
   },
   "outputs": [],
   "source": [
    "Polynomial_landscape_list = {i:[] for i in range(1,101)}\n",
    "v1_loop = itertools.cycle(np.linspace(0.95,0.05,20))\n",
    "for i in range(1,101):\n",
    "    for j in range(10):\n",
    "        Landscape_data = []\n",
    "        v1 = next(v1_loop)\n",
    "        v2 = (1-v1)/2; v3 = (1-v1)/2 \n",
    "        b1 = nrand.normal(scale=v1,size=N)\n",
    "        b2 = nrand.normal(scale=v2,size=special.comb(N,2).astype(int))\n",
    "        b3 = nrand.normal(scale=v3,size=special.comb(N,3).astype(int))\n",
    "        fitness_lst = get_fitness(gt_lst,b1,b2,b3)\n",
    "        fitness_landscape = np.concatenate((gt_lst,fitness_lst.reshape([-1,1])),axis=1)\n",
    "        fitness_landscape = normalize(fitness_landscape)\n",
    "        Polynomial_landscape_list[i].append(fitness_landscape)\n",
    "        print(f\"{i}:{j}     \",end='\\r')"
   ]
  },
  {
   "cell_type": "code",
   "execution_count": null,
   "metadata": {},
   "outputs": [],
   "source": [
    "with open(f'../FL_data_100X10/Polynomial_{N}_landscape_list_100X10.pkl','wb') as f:\n",
    "    pickle.dump(Polynomial_landscape_list,f)"
   ]
  }
 ],
 "metadata": {
  "kernelspec": {
   "display_name": "Python 3",
   "language": "python",
   "name": "python3"
  },
  "language_info": {
   "codemirror_mode": {
    "name": "ipython",
    "version": 3
   },
   "file_extension": ".py",
   "mimetype": "text/x-python",
   "name": "python",
   "nbconvert_exporter": "python",
   "pygments_lexer": "ipython3",
   "version": "3.7.4"
  }
 },
 "nbformat": 4,
 "nbformat_minor": 2
}
