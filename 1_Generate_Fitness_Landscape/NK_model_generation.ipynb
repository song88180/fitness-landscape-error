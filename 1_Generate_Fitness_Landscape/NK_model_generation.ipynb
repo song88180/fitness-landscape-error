{
 "cells": [
  {
   "cell_type": "code",
   "execution_count": null,
   "metadata": {},
   "outputs": [],
   "source": [
    "import numpy as np\n",
    "import numpy.random as nrand\n",
    "import matplotlib.pyplot as plt\n",
    "import pandas as pd\n",
    "import itertools\n",
    "import copy\n",
    "import pickle\n",
    "import multiprocessing\n"
   ]
  },
  {
   "cell_type": "code",
   "execution_count": null,
   "metadata": {},
   "outputs": [],
   "source": [
    "# *** GENERATING INTERACTION MATRICES ***************************************\n",
    "\n",
    "def imatrix_rand(N,K):\n",
    "    '''\n",
    "    This function takes the number of N elements and K interdependencies\n",
    "    and creates a random interaction matrix.\n",
    "    '''\n",
    "    Int_matrix_rand = np.zeros((N, N))\n",
    "    for aa1 in np.arange(N):\n",
    "        Indexes_1 = list(range(N))\n",
    "        Indexes_1.remove(aa1)  # remove self\n",
    "        np.random.shuffle(Indexes_1)\n",
    "        Indexes_1.append(aa1)\n",
    "        Chosen_ones = Indexes_1[-(K+1):]  # this takes the last K+1 indexes\n",
    "        for aa2 in Chosen_ones:\n",
    "            Int_matrix_rand[aa1, aa2] = 1  # we turn on the interactions with K other variables\n",
    "    return(Int_matrix_rand)\n",
    "\n",
    "def calc_fit(NK_land_, inter_m, Current_position, Power_key_):\n",
    "    '''\n",
    "    Takes the landscape and a given combination and returns a vector of fitness\n",
    "    values for the vector of the N decision variables.\n",
    "    '''\n",
    "    Fit_vector = np.zeros(N)\n",
    "    for ad1 in np.arange(N):\n",
    "        Fit_vector[ad1] = NK_land_[np.sum(Current_position * inter_m[ad1]\n",
    "                                          * Power_key_), ad1]\n",
    "    return(Fit_vector)\n",
    "\n",
    "def comb_and_values(NK_land_, Power_key_, inter_m):\n",
    "    '''\n",
    "    Calculates values for all combinations on the landscape. The resulting\n",
    "    array contains:\n",
    "    - the first columns indexed from 0 to N-1 are for each of the combinations\n",
    "    - the column indexed N is for the total fit (average of the entire vector)\n",
    "    '''\n",
    "    Comb_and_value = np.zeros((2**N, N+1))  # to capture the results\n",
    "    c1 = 0  # starting counter for location\n",
    "    for c2 in itertools.product(range(2), repeat=N):\n",
    "        # this takes time so be carefull with landscapes of bigger size\n",
    "        Combination1 = np.array(c2)  # taking each combination\n",
    "        fit_1 = calc_fit(NK_land_, inter_m, Combination1, Power_key_)\n",
    "        Comb_and_value[c1, :N] = Combination1  # combination and values\n",
    "        Comb_and_value[c1, N] = np.mean(fit_1)\n",
    "        c1 = c1 + 1\n",
    "    return(Comb_and_value)"
   ]
  },
  {
   "cell_type": "code",
   "execution_count": null,
   "metadata": {},
   "outputs": [],
   "source": [
    "def normalize(array):\n",
    "    MAX = np.max(array)\n",
    "    MIN = np.min(array)\n",
    "    return (array - MIN)/(MAX - MIN)"
   ]
  },
  {
   "cell_type": "code",
   "execution_count": null,
   "metadata": {},
   "outputs": [],
   "source": [
    "# NK landscape parameters -----------------------------------------\n",
    "# Change parameters to get fitness landscape of different variable site.\n",
    "\n",
    "N = 10  # number of variable site\n"
   ]
  },
  {
   "cell_type": "code",
   "execution_count": null,
   "metadata": {
    "scrolled": false
   },
   "outputs": [],
   "source": [
    "NK_landscape_list = {i:[] for i in range(1,101)}\n",
    "Power_key = np.power(2, np.arange(N - 1, -1, -1))\n",
    "K_loop = itertools.cycle(range(1,N))\n",
    "for i in range(1,101):\n",
    "    for j in range(10):\n",
    "        Landscape_data = []\n",
    "        K = next(K_loop)\n",
    "        Int_matrix = imatrix_rand(N,K).astype(int)\n",
    "        NK_land = np.random.rand(2**N, N)\n",
    "        NK_landscape_list[i].append(comb_and_values(NK_land, Power_key, Int_matrix))\n",
    "        NK_landscape_list[i][j][:,N] = normalize(NK_landscape_list[i][j][:,N])\n",
    "        print(f\"{i}:{j}     \",end='\\r')"
   ]
  },
  {
   "cell_type": "code",
   "execution_count": 10,
   "metadata": {},
   "outputs": [],
   "source": [
    "with open(f'../FL_data_100X10/NK_{N}_landscape_list_100X10.pkl','wb') as f:\n",
    "    pickle.dump(NK_landscape_list,f)"
   ]
  }
 ],
 "metadata": {
  "kernelspec": {
   "display_name": "Python 3",
   "language": "python",
   "name": "python3"
  },
  "language_info": {
   "codemirror_mode": {
    "name": "ipython",
    "version": 3
   },
   "file_extension": ".py",
   "mimetype": "text/x-python",
   "name": "python",
   "nbconvert_exporter": "python",
   "pygments_lexer": "ipython3",
   "version": "3.7.7"
  }
 },
 "nbformat": 4,
 "nbformat_minor": 2
}
