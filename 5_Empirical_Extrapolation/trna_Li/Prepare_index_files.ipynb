{
 "cells": [
  {
   "cell_type": "code",
   "execution_count": 2,
   "metadata": {},
   "outputs": [],
   "source": [
    "import numpy as np\n",
    "import numpy.random as nrand\n",
    "import pandas as pd\n",
    "import matplotlib.pyplot as plt\n",
    "import pickle\n",
    "import itertools\n",
    "from itertools import combinations\n",
    "import copy\n",
    "from matplotlib.ticker import FormatStrFormatter\n",
    "from sklearn.linear_model import Ridge"
   ]
  },
  {
   "cell_type": "code",
   "execution_count": 3,
   "metadata": {},
   "outputs": [],
   "source": [
    "Y_MIN = -0.6931471805599453 # fitness minimum\n",
    "Y_MAX = 0.942657031435126 # fitness maximum"
   ]
  },
  {
   "cell_type": "code",
   "execution_count": 13,
   "metadata": {},
   "outputs": [],
   "source": [
    "def load_sequence(sequences):\n",
    "    \"\"\"\n",
    "    Convert ATCG sequences to one-hot encoding sequence\n",
    "    \"\"\"\n",
    "    BASES = np.asarray(['A','T,','C','G'])\n",
    "    shape = sequences.shape\n",
    "    data = sequences[..., None] == BASES\n",
    "    return data.reshape(shape[0], shape[1] * BASES.size)\n",
    "\n",
    "def tolog(y,Y_MIN,Y_MAX):\n",
    "    \"\"\"\n",
    "    Convert fitness to log scale, and normalize it.\n",
    "    \"\"\"\n",
    "    y = np.log(y)\n",
    "    y = y - Y_MIN\n",
    "    y = y/Y_MAX\n",
    "    return y"
   ]
  },
  {
   "cell_type": "code",
   "execution_count": 95,
   "metadata": {},
   "outputs": [],
   "source": [
    "def get_idx_from_seq(seq:str, seq_fit_dict):\n",
    "    \"\"\"\n",
    "    Get the index of the genotype in FL using genotype sequence.\n",
    "    \"\"\"\n",
    "    if seq in seq_fit_dict:\n",
    "        return seq_fit_dict[seq]\n",
    "    else:\n",
    "        return -1\n",
    "\n",
    "def get_pathways(seq_start,seq_end,seq_fit_dict):\n",
    "    \"\"\"\n",
    "    Given start genotype and end genotype, get possible evolutionary pathways in genotype space\n",
    "    \"\"\"\n",
    "    mut_idx = np.where(seq_start != seq_end)[0]\n",
    "    idx_start = get_idx_from_seq(''.join(seq_start),seq_fit_dict)\n",
    "    \n",
    "    pathways_list = []\n",
    "    \n",
    "    for mut_list in itertools.permutations(mut_idx):\n",
    "        pathway_idx_list = [idx_start]\n",
    "        seq_tmp = np.copy(seq_start) # Record current genotype\n",
    "        for mut_idx in mut_list:\n",
    "            seq_tmp[mut_idx] = seq_end[mut_idx] # mutation on genotype\n",
    "            tmp_idx = get_idx_from_seq(''.join(seq_tmp),seq_fit_dict) # get index of the current genotype\n",
    "            if tmp_idx == -1: # If there are not fitness measurement for this genotype, \n",
    "                              # give up the current evolutionary pathway\n",
    "                break\n",
    "            else:\n",
    "                pathway_idx_list.append(tmp_idx) # Attach the current genotype to the evolutionary pathway\n",
    "        \n",
    "        if tmp_idx != -1: \n",
    "            pathways_list.append(pathway_idx_list)\n",
    "    \n",
    "    return pathways_list\n",
    "            \n",
    "                "
   ]
  },
  {
   "cell_type": "code",
   "execution_count": 5,
   "metadata": {},
   "outputs": [],
   "source": [
    "# Load raw data\n",
    "with open(\"All_data_df.pkl\",'rb') as f:\n",
    "    data = pickle.load(f)\n",
    "    \n",
    "# Filter genotypes that have at least 2 fitness measure higher than 0.5\n",
    "data_filtered = data[np.sum(data[['FitS1','FitS2','FitS3','FitS4','FitS5','FitS6']] == 0.5,axis=1) < 5]\n",
    "\n",
    "# Initialize genotype space\n",
    "sequences = np.array(list(map(list,data_filtered['Seq'])))\n",
    "\n",
    "# Create genotype to fitness dictionary\n",
    "seq_fit_dict = dict(zip(list(map(''.join,sequences)),list(range(len(sequences)))))\n",
    "\n",
    "x = load_sequence(sequences)  # one-hot encoding for A,C,G.\n",
    "y = tolog(np.asarray(data_filtered['Fit']),Y_MIN,Y_MAX) # Normalize fitness"
   ]
  },
  {
   "cell_type": "code",
   "execution_count": 47,
   "metadata": {},
   "outputs": [],
   "source": [
    "# Get fitness at 20th and 80th percentile and filter start and end genotypes.\n",
    "percentile20, percentile80 = np.percentile(y,[20,80])\n",
    "seq20_list = sequences[y<=percentile20]\n",
    "seq80_list = sequences[y>=percentile80]"
   ]
  },
  {
   "cell_type": "code",
   "execution_count": 140,
   "metadata": {},
   "outputs": [
    {
     "name": "stdout",
     "output_type": "stream",
     "text": [
      "325123\r"
     ]
    }
   ],
   "source": [
    "# Generate pathway_list for open_ratio calculation\n",
    "\n",
    "pathway_idx_list = []\n",
    "for seq20 in seq20_list:\n",
    "    print(len(pathway_idx_list),end='\\r')\n",
    "    diff = (seq80_list != seq20).sum(axis=1)\n",
    "    seq80_filtered = seq80_list[diff == 4]\n",
    "    if len(seq80_filtered) < 15:\n",
    "        continue\n",
    "    seq80_rand_idx = nrand.choice(range(len(seq80_filtered)),size=15,replace=False)\n",
    "    seq80_filtered = seq80_filtered[seq80_rand_idx]\n",
    "    for seq80 in seq80_filtered:\n",
    "        pathway_idx_list += get_pathways(seq20,seq80,seq_fit_dict)"
   ]
  },
  {
   "cell_type": "code",
   "execution_count": 146,
   "metadata": {},
   "outputs": [],
   "source": [
    "# round it to 300K\n",
    "idx_300K = nrand.choice(range(len(pathway_idx_list)),size=300000,replace=False)\n",
    "pathway_idx_list = np.array(pathway_idx_list)\n",
    "pathway_idx_list_300K = pathway_idx_list[idx_300K,:]"
   ]
  },
  {
   "cell_type": "code",
   "execution_count": 149,
   "metadata": {},
   "outputs": [],
   "source": [
    "#with open('../../index_file/trna_pathway_list_4steps_300000.pkl','wb') as f:\n",
    "#    pickle.dump(pathway_idx_list_300K,f)"
   ]
  }
 ],
 "metadata": {
  "kernelspec": {
   "display_name": "Python 3",
   "language": "python",
   "name": "python3"
  },
  "language_info": {
   "codemirror_mode": {
    "name": "ipython",
    "version": 3
   },
   "file_extension": ".py",
   "mimetype": "text/x-python",
   "name": "python",
   "nbconvert_exporter": "python",
   "pygments_lexer": "ipython3",
   "version": "3.8.8"
  }
 },
 "nbformat": 4,
 "nbformat_minor": 2
}
