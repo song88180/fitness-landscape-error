{
 "cells": [
  {
   "cell_type": "code",
   "execution_count": 20,
   "metadata": {},
   "outputs": [],
   "source": [
    "import numpy as np\n",
    "import numpy.random as nrand\n",
    "import pandas as pd\n",
    "import matplotlib.pyplot as plt\n",
    "import pickle\n",
    "import itertools\n",
    "from itertools import combinations\n",
    "import copy\n",
    "from matplotlib.ticker import FormatStrFormatter\n",
    "from sklearn.linear_model import Ridge"
   ]
  },
  {
   "cell_type": "code",
   "execution_count": 21,
   "metadata": {},
   "outputs": [],
   "source": [
    "Y_MIN = -0.6931471805599453\n",
    "Y_MAX = 0.942657031435126"
   ]
  },
  {
   "cell_type": "code",
   "execution_count": 22,
   "metadata": {},
   "outputs": [],
   "source": [
    "def load_sequence(sequences):\n",
    "    BASES = np.asarray(['A','T','C','G'])\n",
    "    shape = sequences.shape\n",
    "    data = sequences[..., None] == BASES\n",
    "    return data.reshape(shape[0], shape[1] * BASES.size)\n",
    "\n",
    "def tolog(y,Y_MIN,Y_MAX):\n",
    "    y = np.log(y)\n",
    "    y = y - Y_MIN\n",
    "    y = y/Y_MAX\n",
    "    return y"
   ]
  },
  {
   "cell_type": "code",
   "execution_count": 23,
   "metadata": {},
   "outputs": [],
   "source": [
    "with open(\"All_data_df.pkl\",'rb') as f:\n",
    "    data = pickle.load(f)"
   ]
  },
  {
   "cell_type": "code",
   "execution_count": 24,
   "metadata": {},
   "outputs": [],
   "source": [
    "# Filter genotypes that have at least 2 fitness measure higher than 0.5\n",
    "data_filtered = data[np.sum(data[['FitS1','FitS2','FitS3','FitS4','FitS5','FitS6']] == 0.5,axis=1) < 5]"
   ]
  },
  {
   "cell_type": "code",
   "execution_count": 25,
   "metadata": {},
   "outputs": [],
   "source": [
    "sequences = np.array(list(map(list,data_filtered['Seq'])))\n",
    "x = load_sequence(sequences)  # one-hot encoding for A,C,G.\n",
    "y = tolog(np.asarray(data_filtered['Fit']),Y_MIN,Y_MAX)"
   ]
  },
  {
   "cell_type": "code",
   "execution_count": 38,
   "metadata": {},
   "outputs": [],
   "source": [
    "# Change the parameter to select different ruggedness measure\n",
    "metric = 'r_s' # 'N_max','epi','r_s','open_ratio'\n"
   ]
  },
  {
   "cell_type": "code",
   "execution_count": 39,
   "metadata": {},
   "outputs": [],
   "source": [
    "if metric in ['N_max','gamma','adptwalk_steps','adptwalk_probs']:\n",
    "    with open('../../index_file/trna_neighbor_list.pkl','rb') as f:\n",
    "        neighbor_list = pickle.load(f)\n",
    "\n",
    "if metric in ['epi','gamma']:\n",
    "    with open('../../index_file/trna_epi_square_list.pkl','rb') as f:\n",
    "        res_set = pickle.load(f)\n",
    "    \n",
    "if metric == 'open_ratio':\n",
    "    with open('../../index_file/trna_pathway_list_4steps_300000.pkl','rb') as f:\n",
    "        pathway_list = pickle.load(f)"
   ]
  },
  {
   "cell_type": "code",
   "execution_count": 40,
   "metadata": {},
   "outputs": [],
   "source": [
    "def get_N_max(y):\n",
    "    N_max = 0\n",
    "    for i in range(len(y)):\n",
    "        fit = y[i]\n",
    "        if np.sum(fit <= y[neighbor_list[i]])==0:\n",
    "            N_max += 1\n",
    "    return N_max\n",
    "\n",
    "def cal_epi(y):\n",
    "    epi_fit_list = y[res_set]\n",
    "    n_epi = np.sum(np.sum(epi_fit_list[:,[0,0,3,3]] > epi_fit_list[:,[1,2,1,2]],axis=1)==4)\n",
    "    n_epi += np.sum(np.sum(epi_fit_list[:,[0,0,3,3]] < epi_fit_list[:,[1,2,1,2]],axis=1)==4)\n",
    "    return n_epi/len(epi_fit_list)\n",
    "\n",
    "def cal_r_s(y):\n",
    "    # x is a global variable with each row being a one-hot encode sequence for the corresponding genotype.\n",
    "    reg = Ridge(fit_intercept=True).fit(x, y)\n",
    "    y_predict = reg.predict(x)\n",
    "    roughness = np.sqrt(np.mean(np.square(y - y_predict)))\n",
    "    slope = np.mean(np.abs(reg.coef_))\n",
    "    return roughness/slope\n",
    "\n",
    "def cal_open_ratio(y):\n",
    "    diff = y[pathway_list[:,:-1]] - y[pathway_list[:,1:]] \n",
    "    open_descend = np.sum(np.sum(diff >= 0,axis=1) == pathway_list.shape[1]-1)\n",
    "    open_ascend = np.sum(np.sum(diff <= 0,axis=1) == pathway_list.shape[1]-1)\n",
    "    total_open = open_descend + open_ascend\n",
    "    return total_open/len(pathway_list)\n",
    "\n",
    "def cal_gamma(y):\n",
    "    cov = np.sum((y[res_set][:,1]-y[res_set][:,0])*(y[res_set][:,3]-y[res_set][:,2])) +\\\n",
    "    np.sum((y[res_set][:,2]-y[res_set][:,0])*(y[res_set][:,3]-y[res_set][:,1]))\n",
    "    cov = cov/(2*res_set.shape[0])\n",
    "    sg_list = []\n",
    "    for i in range(len(sequences)):\n",
    "        for neighbor_idx in neighbor_list[i]:\n",
    "            sg_list.append(y[neighbor_idx] - y[i])\n",
    "    var = np.var(sg_list)\n",
    "    return cov/var\n",
    "\n",
    "def cal_adptwalk_steps(y):\n",
    "    N_step_list = []\n",
    "    for idx_0 in range(len(y)):\n",
    "        idx_current = idx_0\n",
    "        N_step = 0\n",
    "        while True:\n",
    "            fit_current = y[idx_current]\n",
    "            neighbor = neighbor_list[idx_current]\n",
    "            if len(neighbor) == 0 :\n",
    "                if N_step > 0: N_step_list.append(N_step)\n",
    "                break\n",
    "            fit_next = y[neighbor].max()\n",
    "            if fit_next <= fit_current:\n",
    "                if N_step > 0: N_step_list.append(N_step)\n",
    "                break\n",
    "            idx_next = neighbor[np.argmax(y[neighbor])]\n",
    "            N_step += 1\n",
    "            idx_current = idx_next\n",
    "    return np.mean(N_step_list)\n",
    "\n",
    "def cal_adptwalk_probs(y):\n",
    "    idx_GO = np.argmax(y)\n",
    "    N_reach = 0\n",
    "    N_total = 0\n",
    "    for idx_0 in range(len(y)):\n",
    "        idx_current = idx_0\n",
    "        N_step = 0\n",
    "        while True:\n",
    "            fit_current = y[idx_current]\n",
    "            neighbor = neighbor_list[idx_current]\n",
    "            if len(neighbor) == 0:\n",
    "                if N_step > 0: N_total += 1\n",
    "                break\n",
    "            fit_next = y[neighbor].max()\n",
    "            if fit_next <= fit_current:\n",
    "                if N_step > 0:\n",
    "                    N_total += 1\n",
    "                    if idx_current == idx_GO:\n",
    "                        N_reach += 1\n",
    "                break\n",
    "            idx_next = neighbor[np.argmax(y[neighbor])]\n",
    "            N_step += 1\n",
    "            idx_current = idx_next\n",
    "    return N_reach/N_total\n",
    "\n",
    "if metric == 'N_max':\n",
    "    get_ruggedness = get_N_max\n",
    "\n",
    "elif metric == 'epi':\n",
    "    get_ruggedness = cal_epi\n",
    "\n",
    "elif metric == 'r_s':\n",
    "    get_ruggedness = cal_r_s\n",
    "\n",
    "elif metric == 'open_ratio':\n",
    "    get_ruggedness = cal_open_ratio\n",
    "\n",
    "elif metric == 'gamma':\n",
    "    get_ruggedness = cal_gamma\n",
    "    \n",
    "elif metric == 'adptwalk_steps':\n",
    "    get_ruggedness = cal_adptwalk_steps\n",
    "    \n",
    "elif metric == 'adptwalk_probs':\n",
    "    get_ruggedness = cal_adptwalk_probs"
   ]
  },
  {
   "cell_type": "code",
   "execution_count": 41,
   "metadata": {},
   "outputs": [
    {
     "name": "stdout",
     "output_type": "stream",
     "text": [
      "6\r"
     ]
    }
   ],
   "source": [
    "duplicates_list = ['FitS1','FitS2','FitS3','FitS4','FitS5','FitS6']\n",
    "res_dict = {i:[] for i in range(1,7)}\n",
    "for replication in range(1,7):\n",
    "    print(replication,end='\\r')\n",
    "    if replication == 1:\n",
    "        iter_list = duplicates_list\n",
    "        for duplicate in iter_list:\n",
    "            y = tolog(np.asarray(data_filtered[duplicate]),Y_MIN,Y_MAX)\n",
    "            res_dict[replication].append(get_ruggedness(y))\n",
    "    else:\n",
    "        iter_list = combinations(duplicates_list,replication)   \n",
    "        for duplicate in iter_list:\n",
    "            y = tolog(np.sum(np.asarray(data_filtered[list(duplicate)]),axis=1),Y_MIN,Y_MAX)\n",
    "            res_dict[replication].append(get_ruggedness(y))\n",
    "        "
   ]
  },
  {
   "cell_type": "code",
   "execution_count": 42,
   "metadata": {},
   "outputs": [
    {
     "data": {
      "text/plain": [
       "{1: [3.6076349719826695,\n",
       "  4.191800096702262,\n",
       "  5.410619674104377,\n",
       "  3.319183308711098,\n",
       "  3.220879997662329,\n",
       "  3.3480987156529283],\n",
       " 2: [3.6715146647406716,\n",
       "  4.0874707120474785,\n",
       "  3.290055105935143,\n",
       "  3.2304506777269952,\n",
       "  3.2981215172196268,\n",
       "  4.380631864694454,\n",
       "  3.5086288065296856,\n",
       "  3.4312855005074026,\n",
       "  3.5169721573473796,\n",
       "  3.8930959246911043,\n",
       "  3.783737666384117,\n",
       "  3.890518535476146,\n",
       "  3.1260880122046473,\n",
       "  3.186011119399684,\n",
       "  3.132316872051421],\n",
       " 3: [3.919322704098412,\n",
       "  3.4107399948395964,\n",
       "  3.3622455739419377,\n",
       "  3.413438284993295,\n",
       "  3.635683711950389,\n",
       "  3.572520760218308,\n",
       "  3.6353941588450924,\n",
       "  3.153936813369648,\n",
       "  3.19562236125844,\n",
       "  3.1540607312961533,\n",
       "  3.789240109932419,\n",
       "  3.7176500981176033,\n",
       "  3.7899093278200513,\n",
       "  3.2713199760974687,\n",
       "  3.319483655015171,\n",
       "  3.272552688743619,\n",
       "  3.471259928552284,\n",
       "  3.5307627857266333,\n",
       "  3.470337398631295,\n",
       "  3.092132416012372],\n",
       " 4: [3.629403057219945,\n",
       "  3.581807419742048,\n",
       "  3.627491745720768,\n",
       "  3.2609074112843475,\n",
       "  3.2969807171487555,\n",
       "  3.261751422236694,\n",
       "  3.4054493261505683,\n",
       "  3.4453179234799527,\n",
       "  3.4030361092803485,\n",
       "  3.1155501423852896,\n",
       "  3.5010609419528635,\n",
       "  3.5461762478362093,\n",
       "  3.498506668185787,\n",
       "  3.196717058304784,\n",
       "  3.3322312066891815],\n",
       " 5: [3.4422176847963417,\n",
       "  3.474647302686283,\n",
       "  3.4391329448274623,\n",
       "  3.202765155329419,\n",
       "  3.3093671359780434,\n",
       "  3.3803088263460626],\n",
       " 6: [3.3554625314021314]}"
      ]
     },
     "execution_count": 42,
     "metadata": {},
     "output_type": "execute_result"
    }
   ],
   "source": [
    "res_dict"
   ]
  },
  {
   "cell_type": "code",
   "execution_count": 43,
   "metadata": {},
   "outputs": [],
   "source": [
    "# #Uncomment only if you want to overwrite trna_raw_data folder.\n",
    "# with open(f'./trna_Li_{metric}_plot.pkl','wb') as f:\n",
    "#     pickle.dump(res_dict,f)"
   ]
  }
 ],
 "metadata": {
  "kernelspec": {
   "display_name": "Python 3",
   "language": "python",
   "name": "python3"
  },
  "language_info": {
   "codemirror_mode": {
    "name": "ipython",
    "version": 3
   },
   "file_extension": ".py",
   "mimetype": "text/x-python",
   "name": "python",
   "nbconvert_exporter": "python",
   "pygments_lexer": "ipython3",
   "version": "3.7.7"
  }
 },
 "nbformat": 4,
 "nbformat_minor": 2
}
