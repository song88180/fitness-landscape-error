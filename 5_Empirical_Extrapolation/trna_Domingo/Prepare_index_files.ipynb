{
 "cells": [
  {
   "cell_type": "code",
   "execution_count": 3,
   "id": "54d8af93",
   "metadata": {},
   "outputs": [],
   "source": [
    "import numpy as np\n",
    "import numpy.random as nrand\n",
    "import pandas as pd\n",
    "import matplotlib.pyplot as plt\n",
    "import pickle\n",
    "import itertools\n",
    "from itertools import combinations\n",
    "import copy"
   ]
  },
  {
   "cell_type": "code",
   "execution_count": 4,
   "id": "28374a8c",
   "metadata": {},
   "outputs": [],
   "source": [
    "# Load raw data\n",
    "df_all = pd.read_csv('trna_Domingo_data.csv')\n",
    "seqs_raw = df_all.seq.to_numpy()\n",
    "seqs_raw = np.array(list(map(list,seqs_raw))) # Convert to 2D array\n",
    "seqs = seqs_raw[:,np.array([1,2,6,27,43,46,66,69,70,71])-1] # Keep variable sites"
   ]
  },
  {
   "cell_type": "code",
   "execution_count": 5,
   "id": "c1b88604",
   "metadata": {},
   "outputs": [],
   "source": [
    "#Generate neighbor_list for N_max calculation\n",
    "\n",
    "neighbor_list = []\n",
    "for seq in seqs:\n",
    "    neighbor_list.append(np.where((seqs != seq).sum(axis=1) == 1)[0])\n",
    "# with open('../../index_file/trna_Domingo_neighbor_list.pkl','wb') as f:\n",
    "#     pickle.dump(neighbor_list,f)"
   ]
  },
  {
   "cell_type": "code",
   "execution_count": null,
   "id": "a803a199",
   "metadata": {},
   "outputs": [],
   "source": [
    "# # Generate epi_square_list for epi calculation\n",
    "\n",
    "epi_square_list = []\n",
    "for idx_00, seq_00 in enumerate(seqs,start=0): \n",
    "    idx_11_list = np.where((seqs != seq_00).sum(axis=1) == 2)[0]\n",
    "    idx_11_list_filtered = idx_11_list[idx_11_list>idx_00]\n",
    "    for idx_11 in idx_11_list_filtered:\n",
    "        seq_11 = seqs[idx_11]\n",
    "        pos1,pos2 = np.where(seq_11 != seq_00)[0]\n",
    "        mut1,mut2 = seq_11[seq_11 != seq_00]\n",
    "        seq_10 = np.copy(seq_00); seq_01 = np.copy(seq_00)\n",
    "        seq_10[pos1] = mut1\n",
    "        seq_01[pos2] = mut2\n",
    "        if len(np.where((seqs != seq_10).sum(axis=1) == 0)[0]) == 0 or \\\n",
    "           len(np.where((seqs != seq_01).sum(axis=1) == 0)[0]) == 0:\n",
    "            continue\n",
    "        idx_10 = np.where((seqs != seq_10).sum(axis=1) == 0)[0][0]\n",
    "        idx_01 = np.where((seqs != seq_01).sum(axis=1) == 0)[0][0]\n",
    "        if idx_10 is None or idx_01 is None:\n",
    "            continue\n",
    "        elif idx_10 < idx_01 and idx_10 > idx_00:\n",
    "            epi_square_list.append([idx_00,idx_10,idx_01,idx_11])\n",
    "        elif idx_10 > idx_01 and idx_01 > idx_00:\n",
    "            epi_square_list.append([idx_00,idx_01,idx_10,idx_11])\n",
    "\n",
    "epi_square_list = np.array(epi_square_list)\n",
    "# with open('../../index_file/trna_Domingo_epi_square_list.pkl','wb') as f:\n",
    "#     pickle.dump(epi_square_list,f)"
   ]
  },
  {
   "cell_type": "code",
   "execution_count": null,
   "id": "b9025421",
   "metadata": {},
   "outputs": [],
   "source": [
    "# Generate pathway_list for open_ratio calculation\n",
    "\n",
    "seqs_list = [''.join(seq) for seq in seqs]\n",
    "seqidx_dict = {seqs_list[i]:i for i in range(len(df_all))}\n",
    "pathway_list = []\n",
    "for idx_0, seq_0 in enumerate(seqs,start=0): \n",
    "    print(idx_0,end='\\r')\n",
    "    idx_4_list = np.where((seqs != seq_0).sum(axis=1) == 4)[0]\n",
    "    idx_4_list_filtered = idx_4_list[idx_4_list>idx_0]\n",
    "    for idx_4 in idx_4_list_filtered:\n",
    "        seq_4 = seqs[idx_4]\n",
    "        poss = np.where(seq_4 != seq_0)[0]\n",
    "        muts = seq_4[seq_4 != seq_0]\n",
    "        \n",
    "        for order in itertools.permutations(range(4),3):\n",
    "            pathway_sub_list = [idx_0]\n",
    "            seq_tmp = np.copy(seq_0)\n",
    "            for step in range(3):\n",
    "                pos = poss[order[step]]; mut = muts[order[step]]\n",
    "                seq_tmp[pos] = mut\n",
    "                seq_tmp_string = ''.join(seq_tmp)\n",
    "                if seq_tmp_string in seqidx_dict:\n",
    "                    pathway_sub_list.append(seqidx_dict[seq_tmp_string])\n",
    "                else:\n",
    "                    break\n",
    "                if step == 2:\n",
    "                    pathway_sub_list.append(idx_4)\n",
    "                    pathway_list.append(pathway_sub_list)\n",
    "\n",
    "# with open('../../index_file/trna_Domingo_pathway_list_4steps_all.pkl','wb') as f:\n",
    "#     pickle.dump(pathway_list,f)"
   ]
  }
 ],
 "metadata": {
  "kernelspec": {
   "display_name": "Python 3",
   "language": "python",
   "name": "python3"
  },
  "language_info": {
   "codemirror_mode": {
    "name": "ipython",
    "version": 3
   },
   "file_extension": ".py",
   "mimetype": "text/x-python",
   "name": "python",
   "nbconvert_exporter": "python",
   "pygments_lexer": "ipython3",
   "version": "3.8.8"
  }
 },
 "nbformat": 4,
 "nbformat_minor": 5
}
