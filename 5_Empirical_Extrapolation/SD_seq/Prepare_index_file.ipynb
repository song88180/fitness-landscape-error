{
 "cells": [
  {
   "cell_type": "code",
   "execution_count": 2,
   "id": "54d8af93",
   "metadata": {},
   "outputs": [],
   "source": [
    "import numpy as np\n",
    "import numpy.random as nrand\n",
    "import pandas as pd\n",
    "import matplotlib.pyplot as plt\n",
    "import pickle\n",
    "import itertools\n",
    "from itertools import combinations\n",
    "import copy"
   ]
  },
  {
   "cell_type": "code",
   "execution_count": 97,
   "id": "aced65e1",
   "metadata": {},
   "outputs": [],
   "source": [
    "BASE_list = ['A','C','G','U']"
   ]
  },
  {
   "cell_type": "code",
   "execution_count": 149,
   "id": "28374a8c",
   "metadata": {},
   "outputs": [
    {
     "data": {
      "text/plain": [
       "197890"
      ]
     },
     "execution_count": 149,
     "metadata": {},
     "output_type": "execute_result"
    }
   ],
   "source": [
    "#df_all = pd.read_csv('Supplemental_File_S3.csv',skiprows=5,index_col=False,names=['seq','P1','P2','P3','mean'])\n",
    "df_all = pd.read_csv('SD_seq_arti_data.csv',index_col=False)\n",
    "seqs_raw = df_all.seq.to_numpy()\n",
    "seqs = np.array(list(map(list,seqs_raw)))\n",
    "\n",
    "#df_all[df_all.iloc[:,1:4].isna().sum(axis=1) == 0].to_csv('SD_seq_arti_data.csv',index=None)"
   ]
  },
  {
   "cell_type": "code",
   "execution_count": 151,
   "id": "0c1f8a9c",
   "metadata": {},
   "outputs": [],
   "source": [
    "seqs_list = [''.join(seq) for seq in seqs]\n",
    "seqidx_dict = {seqs_list[i]:i for i in range(len(df_all))}"
   ]
  },
  {
   "cell_type": "code",
   "execution_count": 159,
   "id": "c1b88604",
   "metadata": {},
   "outputs": [
    {
     "name": "stdout",
     "output_type": "stream",
     "text": [
      "197889\r"
     ]
    }
   ],
   "source": [
    "#Generate neighbor_list for N_max calculation\n",
    "\n",
    "neighbor_list = []\n",
    "for N,seq in enumerate(seqs):\n",
    "    print(N,end='\\r')\n",
    "    neighbor_list_sub = []\n",
    "    for i in range(9):\n",
    "        seq_tmp = np.copy(seq)\n",
    "        for BASE in BASE_list:\n",
    "            if BASE == seq[i]:\n",
    "                continue\n",
    "            else: seq_tmp[i] = BASE\n",
    "            if ''.join(seq_tmp) in seqidx_dict:\n",
    "                neighbor_list_sub.append(seqidx_dict[''.join(seq_tmp)])\n",
    "    neighbor_list.append(neighbor_list_sub)\n",
    "\n",
    "neighbor_list = np.array(neighbor_list)\n",
    "# with open('../../index_file/SD_seq_neighbor_list.pkl','wb') as f:\n",
    "#     pickle.dump(neighbor_list,f)"
   ]
  },
  {
   "cell_type": "code",
   "execution_count": 163,
   "id": "a803a199",
   "metadata": {},
   "outputs": [
    {
     "name": "stdout",
     "output_type": "stream",
     "text": [
      "197889\r"
     ]
    }
   ],
   "source": [
    "# # Generate epi_square_list for epi calculation\n",
    "\n",
    "epi_square_list = []\n",
    "for idx_00, seq_00 in enumerate(seqs): \n",
    "    print(idx_00,end='\\r')\n",
    "    for pos1,pos2 in itertools.combinations(range(9),2):\n",
    "        seq_10 = np.copy(seq_00)\n",
    "        seq_01 = np.copy(seq_00)\n",
    "        seq_11 = np.copy(seq_00)\n",
    "        for mut1 in BASE_list:\n",
    "            if mut1 == seq_00[pos1]:\n",
    "                continue\n",
    "            seq_10[pos1] = mut1\n",
    "            for mut2 in BASE_list:\n",
    "                if mut2 == seq_00[pos2]:\n",
    "                    continue\n",
    "                seq_01[pos2] = mut2\n",
    "                seq_11[pos1] = mut1; seq_11[pos2] = mut2\n",
    "                \n",
    "                if ''.join(seq_10) not in seqidx_dict or \\\n",
    "                   ''.join(seq_01) not in seqidx_dict or \\\n",
    "                   ''.join(seq_11) not in seqidx_dict:\n",
    "                    continue\n",
    "                idx_10 = seqidx_dict[''.join(seq_10)]\n",
    "                idx_01 = seqidx_dict[''.join(seq_01)]\n",
    "                idx_11 = seqidx_dict[''.join(seq_11)]\n",
    "                if idx_00 >= min([idx_10, idx_01, idx_11]):\n",
    "                    continue\n",
    "                elif idx_10 < idx_01:\n",
    "                    epi_square_list.append([idx_00,idx_10,idx_01,idx_11])\n",
    "                elif idx_10 > idx_01:\n",
    "                    epi_square_list.append([idx_00,idx_01,idx_10,idx_11])\n",
    "\n",
    "epi_square_list = np.array(epi_square_list)\n",
    "#with open('../../index_file/SD_seq_epi_square_list.pkl','wb') as f:\n",
    "#    pickle.dump(epi_square_list,f)"
   ]
  },
  {
   "cell_type": "code",
   "execution_count": 197,
   "id": "66179564",
   "metadata": {},
   "outputs": [],
   "source": [
    "nrand.seed(48109)\n",
    "idx_0_list = nrand.choice(len(seqs),size=450, replace=False)"
   ]
  },
  {
   "cell_type": "code",
   "execution_count": 198,
   "id": "b9025421",
   "metadata": {},
   "outputs": [
    {
     "name": "stdout",
     "output_type": "stream",
     "text": [
      "449\r"
     ]
    }
   ],
   "source": [
    "# Generate pathway_list for open_ratio calculation\n",
    "\n",
    "pathway_list = []\n",
    "for N,idx_0 in enumerate(idx_0_list):\n",
    "    print(N,end='\\r')\n",
    "    seq_0 = seqs[idx_0]\n",
    "    idx_4_list = np.where((seqs != seq_0).sum(axis=1) == 4)[0]\n",
    "    idx_4_list_filtered = idx_4_list[idx_4_list>idx_0]\n",
    "    for idx_4 in idx_4_list_filtered:\n",
    "        seq_4 = seqs[idx_4]\n",
    "        poss = np.where(seq_4 != seq_0)[0]\n",
    "        muts = seq_4[seq_4 != seq_0]\n",
    "        \n",
    "        for order in itertools.permutations(range(4),3):\n",
    "            pathway_sub_list = [idx_0]\n",
    "            seq_tmp = np.copy(seq_0)\n",
    "            for step in range(3):\n",
    "                pos = poss[order[step]]; mut = muts[order[step]]\n",
    "                seq_tmp[pos] = mut\n",
    "                seq_tmp_string = ''.join(seq_tmp)\n",
    "                if seq_tmp_string in seqidx_dict:\n",
    "                    pathway_sub_list.append(seqidx_dict[seq_tmp_string])\n",
    "                else:\n",
    "                    break\n",
    "                if step == 2:\n",
    "                    pathway_sub_list.append(idx_4)\n",
    "                    pathway_list.append(pathway_sub_list)\n",
    "\n",
    "#pathway_list = np.array(pathway_list[0:25000000])\n",
    "# with open('../../index_file/SD_seq_pathway_list_4steps_25000000.pkl','wb') as f:\n",
    "#     pickle.dump(pathway_list,f)"
   ]
  }
 ],
 "metadata": {
  "kernelspec": {
   "display_name": "Python 3",
   "language": "python",
   "name": "python3"
  },
  "language_info": {
   "codemirror_mode": {
    "name": "ipython",
    "version": 3
   },
   "file_extension": ".py",
   "mimetype": "text/x-python",
   "name": "python",
   "nbconvert_exporter": "python",
   "pygments_lexer": "ipython3",
   "version": "3.7.7"
  }
 },
 "nbformat": 4,
 "nbformat_minor": 5
}
