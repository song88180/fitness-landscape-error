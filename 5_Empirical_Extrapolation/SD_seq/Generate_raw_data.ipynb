{
 "cells": [
  {
   "cell_type": "code",
   "execution_count": 2,
   "metadata": {},
   "outputs": [],
   "source": [
    "import numpy as np\n",
    "import numpy.random as nrand\n",
    "import pandas as pd\n",
    "import matplotlib.pyplot as plt\n",
    "import pickle\n",
    "import itertools\n",
    "from itertools import combinations\n",
    "import copy\n",
    "from matplotlib.ticker import FormatStrFormatter\n",
    "from sklearn.linear_model import Ridge\n",
    "from scipy.linalg import hadamard"
   ]
  },
  {
   "cell_type": "code",
   "execution_count": 3,
   "metadata": {},
   "outputs": [],
   "source": [
    "def load_sequence(sequences):\n",
    "    \"\"\"\n",
    "    Convert ATCG sequences to one-hot encoding sequence\n",
    "    \"\"\"\n",
    "    BASES = np.asarray(['A','T','C','G'])\n",
    "    shape = sequences.shape\n",
    "    data = sequences[..., None] == BASES\n",
    "    return data.reshape(shape[0], shape[1] * BASES.size)"
   ]
  },
  {
   "cell_type": "code",
   "execution_count": 4,
   "metadata": {},
   "outputs": [],
   "source": [
    "# Load raw data\n",
    "df_all = pd.read_csv('SD_seq_arti_data.csv')\n",
    "\n",
    "# Extract genotype sequences and convert it to 2D numpy array\n",
    "seqs_raw = df_all.seq.to_numpy()\n",
    "seqs = np.array(list(map(list,seqs_raw)))"
   ]
  },
  {
   "cell_type": "code",
   "execution_count": 5,
   "metadata": {},
   "outputs": [],
   "source": [
    "# Convert ATCG genotypes to one-hot encoding sequences\n",
    "x = load_sequence(seqs)\n",
    "\n",
    "# Only keep variable sites for analysis\n",
    "x = x[:,np.where((x != x[0]).sum(axis=0) > 0)[0]]"
   ]
  },
  {
   "cell_type": "code",
   "execution_count": 6,
   "metadata": {},
   "outputs": [],
   "source": [
    "fitness_df = df_all"
   ]
  },
  {
   "cell_type": "code",
   "execution_count": 7,
   "metadata": {},
   "outputs": [
    {
     "data": {
      "text/plain": [
       "452"
      ]
     },
     "execution_count": 7,
     "metadata": {},
     "output_type": "execute_result"
    }
   ],
   "source": [
    "# Find all genotypes between wild type and the antipodal genotypes\n",
    "N = 9\n",
    "gt_0 = \"UAAGGAGGU\" # wild type\n",
    "gt_1 = \"AUUCUUCUC\"\n",
    "idx_sub = True\n",
    "\n",
    "for i in range(N):\n",
    "    idx_tmp = (seqs[:,i] == gt_0[i]) | (seqs[:,i] == gt_1[i])\n",
    "    idx_sub = idx_sub & idx_tmp\n",
    "idx_sub.sum()"
   ]
  },
  {
   "cell_type": "code",
   "execution_count": null,
   "metadata": {},
   "outputs": [],
   "source": [
    "# Convert genotypes to 0-1 coding sequences\n",
    "seqs_sub = (seqs[idx_sub] != list(gt_0)).astype(int)\n",
    "\n",
    "# Get corresponding fitness\n",
    "fitness_df_sub = fitness_df[idx_sub] \n",
    "\n",
    "# Create a genotye (str) to fitness dictionary for fast reference.\n",
    "seq_fit_dict = {\n",
    "    ''.join(seqs_sub[i].astype('str')): fitness_df_sub.iloc[i,1:4].to_list() for i in range(len(seqs_sub))\n",
    "}"
   ]
  },
  {
   "cell_type": "code",
   "execution_count": 2,
   "metadata": {},
   "outputs": [
    {
     "data": {
      "text/plain": [
       "'0b10'"
      ]
     },
     "execution_count": 2,
     "metadata": {},
     "output_type": "execute_result"
    }
   ],
   "source": [
    "bin(2)"
   ]
  },
  {
   "cell_type": "code",
   "execution_count": 9,
   "metadata": {},
   "outputs": [],
   "source": [
    "# Prepare FL for E (Bayesian-Walsh epistasis) calculation\n",
    "landscape_list_b = []\n",
    "for i in range(2**N):\n",
    "    seq_b = [int(x) for x in bin(i)[2:]] # loop through all possible N-length genotypes\n",
    "    seq_b = [0]*(N-len(seq_b))+seq_b # Add 0s to fill up N digits\n",
    "    landscape_list_b.append(seq_b)\n",
    "landscape_list_b = np.array(landscape_list_b)\n",
    "\n",
    "fitness_df_sub_ordered = {'seq':[],'P1':[],'P2':[],'P3':[]}\n",
    "\n",
    "# Combine genotypes with corresponding fitness measurement replicates\n",
    "for seq in landscape_list_b:\n",
    "    seq_str = ''.join(seq.astype('str'))\n",
    "    if seq_str in seq_fit_dict:\n",
    "        r1,r2,r3 = seq_fit_dict[seq_str]\n",
    "        fitness_df_sub_ordered['seq'].append(seq_str)\n",
    "        fitness_df_sub_ordered['P1'].append(r1)\n",
    "        fitness_df_sub_ordered['P2'].append(r2)\n",
    "        fitness_df_sub_ordered['P3'].append(r3)\n",
    "    else:\n",
    "        # there are 60 missing genotype. Assign them 0 fitness.\n",
    "        fitness_df_sub_ordered['seq'].append(seq_str)\n",
    "        fitness_df_sub_ordered['P1'].append(0)\n",
    "        fitness_df_sub_ordered['P2'].append(0)\n",
    "        fitness_df_sub_ordered['P3'].append(0)\n",
    "\n",
    "fitness_df_sub_ordered = pd.DataFrame(fitness_df_sub_ordered)"
   ]
  },
  {
   "cell_type": "code",
   "execution_count": 24,
   "metadata": {},
   "outputs": [],
   "source": [
    "# Change the parameter to select different ruggedness measure\n",
    "metric = 'r_s' # 'N_max','epi','r_s','open_ratio'"
   ]
  },
  {
   "cell_type": "code",
   "execution_count": 25,
   "metadata": {},
   "outputs": [],
   "source": [
    "# Load index data\n",
    "\n",
    "if metric in ['N_max','gamma','adptwalk_steps','adptwalk_probs']:\n",
    "    with open('../../index_file/SD_seq_neighbor_list.pkl','rb') as f:\n",
    "        neighbor_list = pickle.load(f)\n",
    "\n",
    "if metric in ['epi','gamma']:\n",
    "    with open('../../index_file/SD_seq_epi_square_list.pkl','rb') as f:\n",
    "        epi_square_list = pickle.load(f)\n",
    "    \n",
    "elif metric == 'open_ratio':\n",
    "    with open('../../index_file/SD_seq_pathway_list_4steps_25000000.pkl','rb') as f:\n",
    "        pathway_list = pickle.load(f)\n",
    "    _y = fitness_df['mean'].to_numpy()\n",
    "    # Sample evolution pathways that start at fitness lower than 20th percentile \n",
    "    # and end at fitness higher than 80th percentile of the fitness distribution\n",
    "    y20,y80 = np.percentile(_y,[20,80])\n",
    "    filtered_ascend = (_y[pathway_list[:,0]]<=y20) & (_y[pathway_list[:,-1]]>=y80)\n",
    "    filtered_descend = (_y[pathway_list[:,0]]>=y80) & (_y[pathway_list[:,-1]]<=y20)\n",
    "    pathway_list = pathway_list[filtered_ascend|filtered_descend,:]"
   ]
  },
  {
   "cell_type": "code",
   "execution_count": 26,
   "metadata": {},
   "outputs": [],
   "source": [
    "# Functions to calculate ruggendss measures\n",
    "\n",
    "def get_N_max(y):\n",
    "    N_max = 0\n",
    "    for i in range(len(y)):\n",
    "        fit = y[i]\n",
    "        if np.sum(fit <= y[neighbor_list[i]])==0:\n",
    "            N_max += 1\n",
    "    return N_max\n",
    "\n",
    "def cal_epi(y):\n",
    "    epi_fit_list = y[epi_square_list]\n",
    "    n_epi = np.sum(np.sum(epi_fit_list[:,[0,0,3,3]] > epi_fit_list[:,[1,2,1,2]],axis=1)==4)\n",
    "    n_epi += np.sum(np.sum(epi_fit_list[:,[0,0,3,3]] < epi_fit_list[:,[1,2,1,2]],axis=1)==4)\n",
    "    return n_epi/len(epi_fit_list)\n",
    "\n",
    "def cal_r_s(y):\n",
    "    # x is a global variable with each row being a one-hot encode sequence for the corresponding genotype.\n",
    "    reg = Ridge(fit_intercept=True).fit(x, y)\n",
    "    y_predict = reg.predict(x)\n",
    "    roughness = np.sqrt(np.mean(np.square(y - y_predict)))\n",
    "    slope = np.mean(np.abs(reg.coef_))\n",
    "    return roughness/slope\n",
    "\n",
    "def cal_open_ratio(y):\n",
    "    diff = y[pathway_list[:,:-1]] - y[pathway_list[:,1:]] \n",
    "    open_descend = np.sum(np.sum(diff >= 0,axis=1) == pathway_list.shape[1]-1)\n",
    "    open_ascend = np.sum(np.sum(diff <= 0,axis=1) == pathway_list.shape[1]-1)\n",
    "    total_open = open_descend + open_ascend\n",
    "    return total_open/len(pathway_list)\n",
    "\n",
    "def cal_E(y):\n",
    "    global idx_1, phi\n",
    "    W = y.astype('float32')\n",
    "    E = phi.dot(W)/(2**N)\n",
    "    E_square = np.square(E)\n",
    "    E_sum = E_square.sum()-E_square[0]\n",
    "    E_1 = E_square[idx_1].sum()\n",
    "    F_sum = (E_sum-E_1)/E_sum\n",
    "    return F_sum\n",
    "\n",
    "def cal_gamma(y):\n",
    "    cov = np.sum((y[epi_square_list][:,1]-y[epi_square_list][:,0])*(y[epi_square_list][:,3]-y[epi_square_list][:,2])) +\\\n",
    "    np.sum((y[epi_square_list][:,2]-y[epi_square_list][:,0])*(y[epi_square_list][:,3]-y[epi_square_list][:,1]))\n",
    "    cov = cov/(2*epi_square_list.shape[0])\n",
    "    sg_list = []\n",
    "    for i in range(len(y)):\n",
    "        for neighbor_idx in neighbor_list[i]:\n",
    "            sg_list.append(y[neighbor_idx] - y[i])\n",
    "    var = np.var(sg_list)\n",
    "    return cov/var\n",
    "\n",
    "def cal_adptwalk_steps(y):\n",
    "    N_step_list = []\n",
    "    for idx_0 in range(len(y)):\n",
    "        idx_current = idx_0\n",
    "        N_step = 0\n",
    "        while True:\n",
    "            fit_current = y[idx_current]\n",
    "            neighbor = neighbor_list[idx_current]\n",
    "            if len(neighbor) == 0 :\n",
    "                if N_step > 0: N_step_list.append(N_step)\n",
    "                break\n",
    "            fit_next = y[neighbor].max()\n",
    "            if fit_next <= fit_current:\n",
    "                if N_step > 0: N_step_list.append(N_step)\n",
    "                break\n",
    "            idx_next = neighbor[np.argmax(y[neighbor])]\n",
    "            N_step += 1\n",
    "            idx_current = idx_next\n",
    "    return np.mean(N_step_list)\n",
    "\n",
    "def cal_adptwalk_probs(y):\n",
    "    idx_GO = np.argmax(y)\n",
    "    N_reach = 0\n",
    "    N_total = 0\n",
    "    for idx_0 in range(len(y)):\n",
    "        idx_current = idx_0\n",
    "        N_step = 0\n",
    "        while True:\n",
    "            fit_current = y[idx_current]\n",
    "            neighbor = neighbor_list[idx_current]\n",
    "            if len(neighbor) == 0:\n",
    "                if N_step > 0: N_total += 1\n",
    "                break\n",
    "            fit_next = y[neighbor].max()\n",
    "            if fit_next <= fit_current:\n",
    "                if N_step > 0:\n",
    "                    N_total += 1\n",
    "                    if idx_current == idx_GO:\n",
    "                        N_reach += 1\n",
    "                break\n",
    "            idx_next = neighbor[np.argmax(y[neighbor])]\n",
    "            N_step += 1\n",
    "            idx_current = idx_next\n",
    "    return N_reach/N_total\n",
    "\n",
    "\n",
    "if metric == 'N_max':\n",
    "    get_ruggedness = get_N_max\n",
    "\n",
    "elif metric == 'epi':\n",
    "    get_ruggedness = cal_epi\n",
    "\n",
    "elif metric == 'r_s':\n",
    "    get_ruggedness = cal_r_s\n",
    "\n",
    "elif metric == 'open_ratio':\n",
    "    get_ruggedness = cal_open_ratio\n",
    "\n",
    "elif metric == 'E':\n",
    "    N=9\n",
    "    landscape_list_b = []\n",
    "    for i in range(2**N):\n",
    "        seq_b = [int(x) for x in bin(i)[2:]]\n",
    "        seq_b = [0]*(N-len(seq_b))+seq_b\n",
    "        landscape_list_b.append(seq_b)\n",
    "    landscape_list_b = np.array(landscape_list_b)\n",
    "    get_ruggedness = cal_E\n",
    "    phi = hadamard(2**N,dtype='float32')\n",
    "    idx_1 = landscape_list_b.sum(axis=1) == 1\n",
    "\n",
    "elif metric == 'gamma':\n",
    "    get_ruggedness = cal_gamma\n",
    "    \n",
    "elif metric == 'adptwalk_steps':\n",
    "    get_ruggedness = cal_adptwalk_steps\n",
    "    \n",
    "elif metric == 'adptwalk_probs':\n",
    "    get_ruggedness = cal_adptwalk_probs"
   ]
  },
  {
   "cell_type": "code",
   "execution_count": 27,
   "metadata": {},
   "outputs": [
    {
     "name": "stdout",
     "output_type": "stream",
     "text": [
      "3\r"
     ]
    }
   ],
   "source": [
    "# Calculate ruggedness of FL using 1,2, or all 3 fitness measument replicates.\n",
    "\n",
    "duplicates_list = ['P1','P2','P3']\n",
    "res_dict = {i:[] for i in range(1,len(duplicates_list)+1)}\n",
    "for replication in range(1,len(duplicates_list)+1):\n",
    "    print(replication,end='\\r')\n",
    "    if replication == 1:\n",
    "        for duplicate in duplicates_list:\n",
    "            if metric == 'E':\n",
    "                y = fitness_df_sub_ordered[duplicate].to_numpy()\n",
    "            else:\n",
    "                y = fitness_df[duplicate].to_numpy()\n",
    "            res_dict[replication].append(get_ruggedness(y))\n",
    "    else:\n",
    "        iter_list = combinations(duplicates_list,replication)   \n",
    "        for duplicate in iter_list:\n",
    "            if metric == 'E':\n",
    "                y = fitness_df_sub_ordered[list(duplicate)].mean(axis=1).to_numpy()\n",
    "            else:\n",
    "                y = fitness_df[list(duplicate)].mean(axis=1).to_numpy()\n",
    "            res_dict[replication].append(get_ruggedness(y))\n",
    "        "
   ]
  },
  {
   "cell_type": "code",
   "execution_count": 28,
   "metadata": {},
   "outputs": [],
   "source": [
    "# Uncomment only if you want to overwrite.\n",
    "# with open(f'./SD_seq_{metric}_plot.pkl','wb') as f:\n",
    "#     pickle.dump(res_dict,f)"
   ]
  }
 ],
 "metadata": {
  "kernelspec": {
   "display_name": "Python 3",
   "language": "python",
   "name": "python3"
  },
  "language_info": {
   "codemirror_mode": {
    "name": "ipython",
    "version": 3
   },
   "file_extension": ".py",
   "mimetype": "text/x-python",
   "name": "python",
   "nbconvert_exporter": "python",
   "pygments_lexer": "ipython3",
   "version": "3.8.8"
  }
 },
 "nbformat": 4,
 "nbformat_minor": 2
}
