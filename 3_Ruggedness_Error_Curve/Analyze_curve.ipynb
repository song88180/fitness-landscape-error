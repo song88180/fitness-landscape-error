{
 "cells": [
  {
   "cell_type": "code",
   "execution_count": null,
   "metadata": {},
   "outputs": [],
   "source": [
    "import numpy as np\n",
    "import pandas as pd\n",
    "import matplotlib.pyplot as plt\n",
    "import pickle\n",
    "import copy\n",
    "from sklearn.linear_model import LinearRegression"
   ]
  },
  {
   "cell_type": "code",
   "execution_count": null,
   "metadata": {},
   "outputs": [],
   "source": [
    "# Change parameters to select fitness landscape and metric to analyze\n",
    "\n",
    "model = 'NK' # Type of theoretical landscape model: 'NK', 'RMF', 'Polynomial'\n",
    "N = 10 # Number of variable sites: 5, 10, 15. Default number is 10. 5 and 15 are not shown in paper.\n",
    "metric = 'N_max' # Type of metrics: 'N_max', 'epi', 'r_s', 'open_ratio'\n"
   ]
  },
  {
   "cell_type": "code",
   "execution_count": null,
   "metadata": {},
   "outputs": [],
   "source": [
    "with open(f'FL_data_3X10/{model}{N}_{metric}_landscape_3X10.pkl','rb') as f:\n",
    "    landscape_list = pickle.load(f)\n",
    "    \n",
    "if N == 5:\n",
    "    with open('../index_file/epi_list_5s_all.pkl', 'rb') as f:\n",
    "        epi_list = pickle.load(f)\n",
    "    with open('../index_file/pathway_list_5s_all.pkl', 'rb') as f:\n",
    "        pathway_list = pickle.load(f)\n",
    "elif N == 10:\n",
    "    with open('../index_file/epi_list_10s_all.pkl', 'rb') as f:\n",
    "        epi_list = pickle.load(f)\n",
    "    with open('../index_file/pathway_list_10s_120000.pkl', 'rb') as f:\n",
    "        pathway_list = pickle.load(f)\n",
    "elif N == 15:\n",
    "    with open('../index_file/epi_list_15s_200000.pkl', 'rb') as f:\n",
    "        epi_list = pickle.load(f)\n",
    "    with open('../index_file/pathway_list_15s_240000.pkl', 'rb') as f:\n",
    "        pathway_list = pickle.load(f)\n",
    "    with open('../index_file/N_max_list_15s_all.pkl', 'rb') as f:\n",
    "        neighbor_list = pickle.load(f)"
   ]
  },
  {
   "cell_type": "code",
   "execution_count": null,
   "metadata": {},
   "outputs": [],
   "source": [
    "def get_N_max(landscape):\n",
    "    N_max = 0\n",
    "    for gt in landscape:\n",
    "        seq = gt[0:N]\n",
    "        fit = gt[N]\n",
    "        flag = True\n",
    "        for i,_ in enumerate(seq):\n",
    "            seq_ = copy.deepcopy(seq)\n",
    "            seq_[i] = 1 - seq_[i]\n",
    "            tmp = ''.join(seq_.astype(int).astype(str))\n",
    "            idx = int(tmp, 2)\n",
    "            fit_ = landscape[idx,N]\n",
    "            if fit < fit_:\n",
    "                flag = False\n",
    "                break\n",
    "        if flag == True:\n",
    "            N_max += 1\n",
    "    return N_max    \n",
    "\n",
    "def get_N_max_15(landscape):\n",
    "    return np.sum(np.max(landscape[neighbor_list][:,:,-1],axis=1) == landscape[neighbor_list[:,0]][:,-1])\n",
    "\n",
    "def cal_epi(landscape):\n",
    "    epi_fit_list = landscape[epi_list][:,:,-1]\n",
    "    n_epi = np.sum(np.sum(epi_fit_list[:,[0,0,3,3]] > epi_fit_list[:,[1,2,1,2]],axis=1)==4)\n",
    "    return n_epi/len(epi_fit_list)\n",
    "\n",
    "def cal_r_s(landscape):\n",
    "    X = landscape[:,:N]\n",
    "    y = landscape[:,-1]\n",
    "    reg = LinearRegression().fit(X, y)\n",
    "    y_predict = reg.predict(landscape[:,:N])\n",
    "    roughness = np.sqrt(np.mean(np.square(y - y_predict)))\n",
    "    slope = np.mean(np.abs(reg.coef_))\n",
    "    return roughness/slope\n",
    "\n",
    "def cal_open_ratio(landscape):\n",
    "    pathway_fit_list = landscape[pathway_list][:,:,-1]\n",
    "    total_open = np.sum(np.sum(pathway_fit_list[:,0:4]<=pathway_fit_list[:,1:5],axis=1)==pathway_fit_list.shape[1]-1)+\\\n",
    "    np.sum(np.sum(pathway_fit_list[:,0:4]<=pathway_fit_list[:,1:5],axis=1)==0)\n",
    "    return total_open/len(pathway_list)\n",
    "\n",
    "if metric == 'N_max':\n",
    "    if N == 15:\n",
    "        get_ruggedness = get_N_max_15\n",
    "    else:\n",
    "        get_ruggedness = get_N_max\n",
    "\n",
    "elif metric == 'r_s':\n",
    "    get_ruggedness = cal_r_s\n",
    "\n",
    "elif metric == 'epi':\n",
    "    get_ruggedness = cal_epi\n",
    "\n",
    "elif metric == 'open_ratio':\n",
    "    get_ruggedness = cal_open_ratio"
   ]
  },
  {
   "cell_type": "code",
   "execution_count": null,
   "metadata": {},
   "outputs": [],
   "source": [
    "def normalize(array):\n",
    "    MAX = np.max(array)\n",
    "    MIN = np.min(array)\n",
    "    return (array - MIN)/(MAX - MIN)"
   ]
  },
  {
   "cell_type": "code",
   "execution_count": null,
   "metadata": {},
   "outputs": [],
   "source": [
    "def Add_Error(landscape,std):\n",
    "    landscape_error = copy.deepcopy(landscape)\n",
    "    landscape_error[:,-1] += np.random.normal(0,std,landscape_error.shape[0])\n",
    "    landscape_error = normalize(landscape_error)\n",
    "    return landscape_error"
   ]
  },
  {
   "cell_type": "code",
   "execution_count": null,
   "metadata": {},
   "outputs": [],
   "source": [
    "error_list = [0.002,0.005,0.01,0.02,0.03,0.04,0.05,0.06,0.07,0.08,0.09,\n",
    "              0.1,0.12,0.14,0.16,0.18,0.2,0.25,0.3,0.35,0.4,0.5,0.6]\n"
   ]
  },
  {
   "cell_type": "code",
   "execution_count": null,
   "metadata": {},
   "outputs": [],
   "source": [
    "plot_dict = {f'{metric}_T':[],f'{metric}_E':[],'std':[]}\n",
    "\n",
    "for i in landscape_list.keys():\n",
    "    for j in range(10):\n",
    "        print(i,':',j,'   ',end='\\r')\n",
    "        ruggedness_T = get_ruggedness(landscape_list[i][j])\n",
    "        for k in error_list:\n",
    "            NK_landscape_error = Add_Error(landscape_list[i][j],k)\n",
    "            ruggedness_E = get_ruggedness(NK_landscape_error)\n",
    "            plot_dict[f'{metric}_T'].append(ruggedness_T)\n",
    "            plot_dict[f'{metric}_E'].append(ruggedness_E)\n",
    "            plot_dict['std'].append(k)\n",
    "plot_df = pd.DataFrame(plot_dict)"
   ]
  },
  {
   "cell_type": "code",
   "execution_count": null,
   "metadata": {
    "scrolled": true
   },
   "outputs": [],
   "source": [
    "# Uncomment only if you want to overwrite files in plot_data folder.\n",
    "\n",
    "#with open(f'plot_data/plot_df_{model}{N}_{metric}.pkl','wb') as f:\n",
    "#    pickle.dump(plot_df,f)"
   ]
  }
 ],
 "metadata": {
  "kernelspec": {
   "display_name": "Python 3",
   "language": "python",
   "name": "python3"
  },
  "language_info": {
   "codemirror_mode": {
    "name": "ipython",
    "version": 3
   },
   "file_extension": ".py",
   "mimetype": "text/x-python",
   "name": "python",
   "nbconvert_exporter": "python",
   "pygments_lexer": "ipython3",
   "version": "3.7.4"
  }
 },
 "nbformat": 4,
 "nbformat_minor": 2
}
