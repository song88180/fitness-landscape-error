{
 "cells": [
  {
   "cell_type": "code",
   "execution_count": 1,
   "metadata": {},
   "outputs": [],
   "source": [
    "import sys\n",
    "import os\n",
    "import numpy as np\n",
    "import pandas as pd\n",
    "import matplotlib.pyplot as plt\n",
    "import pickle\n",
    "import copy\n",
    "from sklearn.linear_model import LinearRegression\n",
    "import scipy\n",
    "import scipy.sparse.linalg\n",
    "from scipy.linalg import hadamard\n",
    "currentdir = os.path.abspath('')\n",
    "targetdir = os.path.dirname(currentdir)+'/utils'\n",
    "sys.path.append(targetdir)\n",
    "from utils import *"
   ]
  },
  {
   "cell_type": "code",
   "execution_count": 2,
   "metadata": {},
   "outputs": [
    {
     "name": "stdout",
     "output_type": "stream",
     "text": [
      "N:10\n",
      "  model:Polynomial\n",
      "    adptwalk_steps\n",
      "1 : 9    \r"
     ]
    }
   ],
   "source": [
    "model_list = ['NK','RMF','Polynomial'] # Type of theoretical landscape model: 'NK', 'RMF', 'Polynomial'\n",
    "N_list = [5, 10, 15] # Number of variable sites: 5, 10, 15\n",
    "metric_list = ['N_max', 'epi', 'r_s', 'open_ratio','E', 'gamma', 'adptwalk_steps', 'adptwalk_probs']\n",
    "    # Type of metrics: 'N_max', 'epi', 'r_s', 'open_ratio','E', 'gamma', 'adptwalk_steps', 'adptwalk_probs'\n",
    "# if metric == r_s: \n",
    "# error_list = [0.002,0.005,0.01,0.02,0.03,0.04,0.05,0.06,0.07,0.08,0.09,\n",
    "#               0.1,0.12,0.14,0.16,0.18,0.2,0.25,0.3,0.35,0.4,0.5,0.6,0.8,1,1.5,2,3,4]\n",
    "\n",
    "error_list = [0.002,0.005,0.01,0.02,0.03,0.04,0.05,0.06,0.07,0.08,0.09,\n",
    "              0.1,0.12,0.14,0.16,0.18,0.2,0.25,0.3,0.35,0.4,0.5,0.6]\n",
    "\n",
    "# Generate ruggedness-measurement data\n",
    "for N in N_list:\n",
    "    print(f\"N:{N}\")\n",
    "    load_pregenerated_data(N)\n",
    "    \n",
    "    for model in model_list:\n",
    "        print(f\"  model:{model}\")\n",
    "\n",
    "        for metric in metric_list:\n",
    "            print(f\"    {metric}\")\n",
    "            # Load pre-generated FL data\n",
    "            with open(f'../FL_data_3X10/{model}{N}_{metric}_landscape_3X10.pkl', 'rb') as f:\n",
    "                landscape_list = pickle.load(f)\n",
    "                \n",
    "            # Get a function to calculate a specific ruggedness measure\n",
    "            get_ruggedness = get_ruggedness_function(metric,N,gt_code=landscape_list[1][0][:,:N])\n",
    "            \n",
    "            plot_dict = {f'{metric}_T':[],f'{metric}_E':[],'std':[]}\n",
    "            for i in landscape_list.keys():\n",
    "                for j in range(10):\n",
    "                    print(i,':',j,'   ',end='\\r')\n",
    "                    # Calculate ruggedness of true FL\n",
    "                    ruggedness_T = get_ruggedness(landscape_list[i][j])\n",
    "                    for k in error_list:\n",
    "                        # Introduce measurement error to FL\n",
    "                        landscape_error = Add_Error(landscape_list[i][j],k)\n",
    "                        # Calculate ruggedness of observed FL (with measurement error)\n",
    "                        ruggedness_E = get_ruggedness(landscape_error)\n",
    "                        plot_dict[f'{metric}_T'].append(ruggedness_T)\n",
    "                        plot_dict[f'{metric}_E'].append(ruggedness_E)\n",
    "                        plot_dict['std'].append(k)\n",
    "            plot_df = pd.DataFrame(plot_dict)\n",
    "            \n",
    "            # Uncomment only if you want to overwrite plot data files in plot_data folder.\n",
    "            # with open(f'plot_data/plot_df_{model}{N}_{metric}.pkl','wb') as f:\n",
    "            #     pickle.dump(plot_df,f)"
   ]
  }
 ],
 "metadata": {
  "kernelspec": {
   "display_name": "Python 3",
   "language": "python",
   "name": "python3"
  },
  "language_info": {
   "codemirror_mode": {
    "name": "ipython",
    "version": 3
   },
   "file_extension": ".py",
   "mimetype": "text/x-python",
   "name": "python",
   "nbconvert_exporter": "python",
   "pygments_lexer": "ipython3",
   "version": "3.8.8"
  }
 },
 "nbformat": 4,
 "nbformat_minor": 2
}
