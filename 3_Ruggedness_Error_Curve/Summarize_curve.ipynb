{
 "cells": [
  {
   "cell_type": "code",
   "execution_count": null,
   "metadata": {},
   "outputs": [],
   "source": [
    "import numpy as np\n",
    "import pandas as pd\n",
    "import matplotlib.pyplot as plt\n",
    "import pickle"
   ]
  },
  {
   "cell_type": "code",
   "execution_count": null,
   "metadata": {},
   "outputs": [],
   "source": [
    "plot_dict = {j:{i:[] for i in ['N_max','epi','r_s','open_ratio']} for j in ['NK','RMF','Polynomial']}\n",
    "N = 10  # Defalut lanscape size is N = 10."
   ]
  },
  {
   "cell_type": "code",
   "execution_count": null,
   "metadata": {},
   "outputs": [],
   "source": [
    "for model in ['NK','RMF','Polynomial']:\n",
    "    for metric in ['N_max','epi','r_s','open_ratio']:\n",
    "        with open(f'plot_data/plot_df_{model}{N}_{metric}.pkl','rb') as f:\n",
    "            plot_dict[model][metric] = pickle.load(f)"
   ]
  },
  {
   "cell_type": "code",
   "execution_count": null,
   "metadata": {},
   "outputs": [],
   "source": [
    "error_list = [0.002,0.005,0.01,0.02,0.03,0.04,0.05,0.06,0.07,0.08,0.09,\n",
    "              0.1,0.12,0.14,0.16,0.18,0.2,0.25,0.3,0.35,0.4,0.5,0.6]"
   ]
  },
  {
   "cell_type": "code",
   "execution_count": null,
   "metadata": {},
   "outputs": [],
   "source": [
    "for model in ['NK','RMF','Polynomial']:\n",
    "    for metric in ['N_max','epi','r_s','open_ratio']:\n",
    "        with open(f'plot_data/plot_df_{model}{N}_{metric}.pkl','rb') as f:\n",
    "            plot_dict[model][metric] = pickle.load(f)"
   ]
  },
  {
   "cell_type": "code",
   "execution_count": null,
   "metadata": {},
   "outputs": [],
   "source": [
    "# Plot layout control\n",
    "ruggedness_measure_dict = {'N_max':'$N_{max}$','epi':'$F_{rse}$','r_s':'$r/s$','open_ratio':'$F_{bp}$'}\n",
    "text_y = [48,42,25]\n",
    "ylim_dict = {'open_ratio':[0.85,1],'N_max':[0,100],'epi':[0,0.2],'r_s':[0,20]}"
   ]
  },
  {
   "cell_type": "code",
   "execution_count": null,
   "metadata": {
    "scrolled": false
   },
   "outputs": [],
   "source": [
    "fig,axs = plt.subplots(4,3,figsize=[15,20])\n",
    "\n",
    "for row,metric in enumerate(['N_max','epi','r_s','open_ratio']):\n",
    "    for column,model in enumerate(['NK','RMF','Polynomial']):\n",
    "        ax = axs[row][column]\n",
    "        ax.tick_params(labelsize=12)\n",
    "        window_width=5\n",
    "        N_error = len(error_list)\n",
    "        if metric == 'open_ratio':\n",
    "            y_data = 1 - plot_dict[model][metric][f'{metric}_E']\n",
    "        else:\n",
    "            y_data = plot_dict[model][metric][f'{metric}_E']\n",
    "        for n in range(10):\n",
    "            ax.plot(error_list,y_data[n*len(error_list):(n+1)*len(error_list)],label=None,c='r')\n",
    "        for n in range(10,20):\n",
    "            ax.plot(error_list,y_data[n*len(error_list):(n+1)*len(error_list)],label=None,c='b')\n",
    "        for n in range(20,30):\n",
    "            ax.plot(error_list,y_data[n*len(error_list):(n+1)*len(error_list)],label=None,c='y')\n",
    "        if row == 0:\n",
    "            ax.set_title(model,fontsize=24)\n",
    "        if column == 0:\n",
    "            ax.set_ylabel(f'Inferred {ruggedness_measure_dict[metric]}',fontsize=15)\n",
    "            ax.set_xlabel('Fitness estimation error',fontsize=15)\n",
    "\n",
    "        ax.set_xlim([0,0.4])\n",
    "        ax.set_ylim(ylim_dict[metric])\n",
    "        \n",
    "\n",
    "plt.show()\n"
   ]
  }
 ],
 "metadata": {
  "kernelspec": {
   "display_name": "Python 3",
   "language": "python",
   "name": "python3"
  },
  "language_info": {
   "codemirror_mode": {
    "name": "ipython",
    "version": 3
   },
   "file_extension": ".py",
   "mimetype": "text/x-python",
   "name": "python",
   "nbconvert_exporter": "python",
   "pygments_lexer": "ipython3",
   "version": "3.7.4"
  }
 },
 "nbformat": 4,
 "nbformat_minor": 2
}
