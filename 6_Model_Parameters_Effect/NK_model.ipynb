{
 "cells": [
  {
   "cell_type": "code",
   "execution_count": null,
   "metadata": {
    "scrolled": true
   },
   "outputs": [],
   "source": [
    "import os\n",
    "import sys\n",
    "import numpy as np\n",
    "import numpy.random as nrand\n",
    "import matplotlib\n",
    "import matplotlib.pyplot as plt\n",
    "import seaborn as sns\n",
    "import pandas as pd\n",
    "import pickle\n",
    "import copy\n",
    "from sklearn.linear_model import LinearRegression\n",
    "currentdir = os.path.abspath('')\n",
    "targetdir = os.path.dirname(currentdir)+'/utils'\n",
    "sys.path.append(targetdir)\n",
    "from utils import *"
   ]
  },
  {
   "cell_type": "code",
   "execution_count": 2,
   "metadata": {},
   "outputs": [],
   "source": [
    "with open('./FL_stratified/NK_landscape_stratified.pkl', 'rb') as f:\n",
    "    NK_landscape_list = pickle.load(f)"
   ]
  },
  {
   "cell_type": "code",
   "execution_count": 3,
   "metadata": {},
   "outputs": [],
   "source": [
    "# Change the parameter to select different ruggedness measure.\n",
    "metric = 'open_ratio' # 'N_max', 'epi', 'r_s', 'open_ratio'\n",
    "N=10 # N=10 is the defalt value\n",
    "load_pregenerated_data(N)\n",
    "get_ruggedness = get_ruggedness_function(metric,N,gt_code=NK_landscape_list[1][0][:,:N])"
   ]
  },
  {
   "cell_type": "code",
   "execution_count": 5,
   "metadata": {},
   "outputs": [],
   "source": [
    "plot_dict = {'K':[],metric:[]}\n",
    "for K in range(0,10):\n",
    "    for j in range(100):\n",
    "        plot_dict['K'].append(K)\n",
    "        plot_dict[metric].append(get_ruggedness(NK_landscape_list[K][j]))\n",
    "plot_df = pd.DataFrame(plot_dict)"
   ]
  },
  {
   "cell_type": "code",
   "execution_count": 6,
   "metadata": {},
   "outputs": [],
   "source": [
    "# Uncomment only if you want to overwrite files in plot_df_data folder.\n",
    "with open(f'./plot_df_data/NK_{metric}_stratified_plot_df.pkl', 'wb') as f:\n",
    "    pickle.dump(plot_df,f)"
   ]
  }
 ],
 "metadata": {
  "kernelspec": {
   "display_name": "Python 3",
   "language": "python",
   "name": "python3"
  },
  "language_info": {
   "codemirror_mode": {
    "name": "ipython",
    "version": 3
   },
   "file_extension": ".py",
   "mimetype": "text/x-python",
   "name": "python",
   "nbconvert_exporter": "python",
   "pygments_lexer": "ipython3",
   "version": "3.8.8"
  }
 },
 "nbformat": 4,
 "nbformat_minor": 2
}
