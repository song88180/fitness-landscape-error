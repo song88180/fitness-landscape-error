{
 "cells": [
  {
   "cell_type": "code",
   "execution_count": 11,
   "id": "7dfa83bc",
   "metadata": {
    "scrolled": true
   },
   "outputs": [],
   "source": [
    "import numpy as np\n",
    "import numpy.random as nrand\n",
    "import matplotlib.pyplot as plt\n",
    "import pandas as pd\n",
    "import itertools\n",
    "import copy\n",
    "import pickle\n",
    "import multiprocessing\n",
    "from scipy import special\n",
    "import os\n",
    "import sys\n",
    "currentdir = os.path.abspath('')\n",
    "targetdir = os.path.dirname(os.path.dirname(currentdir))+'/utils'\n",
    "sys.path.append(targetdir)\n",
    "from utils import *"
   ]
  },
  {
   "cell_type": "code",
   "execution_count": 12,
   "id": "83200e92",
   "metadata": {},
   "outputs": [],
   "source": [
    "# NK landscape parameters -----------------------------------------\n",
    "# Change parameters to get fitness landscape of different variable site.\n",
    "\n",
    "N = 10  # number of variable site\n",
    "wt = nrand.randint(2,size=N)\n",
    "gt_lst = np.array(list(map(list, itertools.product([0, 1], repeat=N))))"
   ]
  },
  {
   "cell_type": "code",
   "execution_count": 15,
   "id": "0fe448d2",
   "metadata": {},
   "outputs": [],
   "source": [
    "def get_fit(gt,b1,b2,b3):\n",
    "    fit_1 = np.sum(gt*b1)\n",
    "    gt_2 = np.array([])\n",
    "    for i,row in enumerate(gt*gt.reshape(-1,1)):\n",
    "        gt_2 = np.concatenate([gt_2,row[i+1:]])\n",
    "    fit_2 = np.sum(gt_2*b2)\n",
    "    gt_3 = np.array([])\n",
    "    gt_33 = gt.reshape(-1,1,1)*gt.reshape(1,-1,1)*gt.reshape(1,1,-1)\n",
    "    for pos_1 in range(N-2):\n",
    "        for pos_2 in range(pos_1+1,N-1):\n",
    "            gt_3 = np.concatenate([gt_3,gt_33[pos_1,pos_2,pos_2+1:]])\n",
    "    fit_3 = np.sum(gt_3*b3)\n",
    "    return fit_1+fit_2+fit_3\n",
    "\n",
    "def get_fitness(gt_lst,b1,b2,b3):\n",
    "    fitness_lst = np.array([get_fit(gt,b1,b2,b3) for gt in gt_lst])\n",
    "    MIN = np.min(fitness_lst)\n",
    "    MAX = np.max(fitness_lst)\n",
    "    fitness_lst = (fitness_lst - MIN) / (MAX - MIN)\n",
    "    return fitness_lst"
   ]
  },
  {
   "cell_type": "code",
   "execution_count": 13,
   "id": "1b7721fe",
   "metadata": {},
   "outputs": [],
   "source": [
    "# with open('Polynomial_landscape_stratified.pkl','rb') as f:\n",
    "#     a = pickle.load(f)"
   ]
  },
  {
   "cell_type": "code",
   "execution_count": 16,
   "id": "163d3017",
   "metadata": {},
   "outputs": [
    {
     "name": "stdout",
     "output_type": "stream",
     "text": [
      "19:99     \r"
     ]
    }
   ],
   "source": [
    "Polynomial_landscape_list = {i:[] for i in range(20)}\n",
    "v1_list = np.linspace(0.95,0.05,20)\n",
    "for i,v1 in enumerate(v1_list):\n",
    "    v2 = np.sqrt((1-v1**2)/2)\n",
    "    v3 = np.sqrt((1-v1**2)/2)\n",
    "    for j in range(100):\n",
    "        b1 = nrand.normal(scale=v1,size=N)\n",
    "        b2 = nrand.normal(scale=v2,size=special.comb(N,2).astype(int))\n",
    "        b3 = nrand.normal(scale=v3,size=special.comb(N,3).astype(int))\n",
    "        fitness_lst = get_fitness(gt_lst,b1,b2,b3)\n",
    "        fitness_landscape = np.concatenate((gt_lst,fitness_lst.reshape([-1,1])),axis=1)\n",
    "        fitness_landscape = normalize(fitness_landscape)\n",
    "        Polynomial_landscape_list[i].append(fitness_landscape)\n",
    "        print(f\"{i}:{j}     \",end='\\r')\n",
    "    Polynomial_landscape_list[i] = np.array(Polynomial_landscape_list[i])"
   ]
  },
  {
   "cell_type": "code",
   "execution_count": 17,
   "id": "90b508f2",
   "metadata": {},
   "outputs": [],
   "source": [
    "# with open(f'../Polynomial_landscape_stratified.pkl','wb') as f:\n",
    "#     pickle.dump(Polynomial_landscape_list,f)"
   ]
  }
 ],
 "metadata": {
  "kernelspec": {
   "display_name": "Python 3",
   "language": "python",
   "name": "python3"
  },
  "language_info": {
   "codemirror_mode": {
    "name": "ipython",
    "version": 3
   },
   "file_extension": ".py",
   "mimetype": "text/x-python",
   "name": "python",
   "nbconvert_exporter": "python",
   "pygments_lexer": "ipython3",
   "version": "3.8.8"
  }
 },
 "nbformat": 4,
 "nbformat_minor": 5
}
