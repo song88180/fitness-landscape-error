{
 "cells": [
  {
   "cell_type": "code",
   "execution_count": null,
   "metadata": {},
   "outputs": [],
   "source": [
    "import numpy as np\n",
    "import numpy.random as nrand\n",
    "import matplotlib\n",
    "import matplotlib.pyplot as plt\n",
    "import seaborn as sns\n",
    "import pandas as pd\n",
    "import pickle\n",
    "import copy\n",
    "from sklearn.linear_model import LinearRegression"
   ]
  },
  {
   "cell_type": "code",
   "execution_count": null,
   "metadata": {},
   "outputs": [],
   "source": [
    "with open('./FL_stratified/RMF_landscape_stratified.pkl', 'rb') as f:\n",
    "    RMF_landscape_list = pickle.load(f)"
   ]
  },
  {
   "cell_type": "code",
   "execution_count": null,
   "metadata": {},
   "outputs": [],
   "source": [
    "with open('../index_file/epi_list_10s_all.pkl', 'rb') as f:\n",
    "    epi_list = pickle.load(f)\n",
    "with open('../index_file/pathway_list_10s_120000.pkl', 'rb') as f:\n",
    "    pathway_list = pickle.load(f)"
   ]
  },
  {
   "cell_type": "code",
   "execution_count": null,
   "metadata": {},
   "outputs": [],
   "source": [
    "# Change the parameter to select different ruggedness measure.\n",
    "metric = 'r_s' # 'N_max', 'epi', 'r_s', 'open_ratio'\n",
    "N=10 # N=10 is the defalt value"
   ]
  },
  {
   "cell_type": "code",
   "execution_count": null,
   "metadata": {},
   "outputs": [],
   "source": [
    "def get_N_max(landscape):\n",
    "    N_max = 0\n",
    "    for gt in landscape:\n",
    "        seq = gt[0:N]\n",
    "        fit = gt[N]\n",
    "        flag = True\n",
    "        for i,_ in enumerate(seq):\n",
    "            seq_ = copy.deepcopy(seq)\n",
    "            seq_[i] = 1 - seq_[i]\n",
    "            tmp = ''.join(seq_.astype(int).astype(str))\n",
    "            idx = int(tmp, 2)\n",
    "            fit_ = landscape[idx,N]\n",
    "            if fit < fit_:\n",
    "                flag = False\n",
    "                break\n",
    "        if flag == True:\n",
    "            N_max += 1\n",
    "    return N_max    \n",
    "\n",
    "def cal_epi(landscape):\n",
    "    epi_fit_list = landscape[epi_list][:,:,-1]\n",
    "    n_epi = np.sum(np.sum(epi_fit_list[:,[0,0,3,3]] > epi_fit_list[:,[1,2,1,2]],axis=1)==4)\n",
    "    return n_epi/len(epi_fit_list)\n",
    "\n",
    "def cal_r_s(landscape):\n",
    "    X = landscape[:,:N]\n",
    "    y = landscape[:,-1]\n",
    "    reg = LinearRegression().fit(X, y)\n",
    "    y_predict = reg.predict(landscape[:,:N])\n",
    "    roughness = np.sqrt(np.mean(np.square(y - y_predict)))\n",
    "    slope = np.mean(np.abs(reg.coef_))\n",
    "    return roughness/slope\n",
    "\n",
    "def cal_open_ratio(landscape):\n",
    "    pathway_fit_list = landscape[pathway_list][:,:,-1]\n",
    "    total_open = np.sum(np.sum(pathway_fit_list[:,0:4]<=pathway_fit_list[:,1:5],axis=1)==pathway_fit_list.shape[1]-1)+\\\n",
    "    np.sum(np.sum(pathway_fit_list[:,0:4]<=pathway_fit_list[:,1:5],axis=1)==0)\n",
    "    return total_open/len(pathway_list)\n",
    "    \n",
    "    \n",
    "if metric == 'N_max':\n",
    "    get_ruggedness = get_N_max\n",
    "\n",
    "elif metric == 'r_s':\n",
    "    get_ruggedness = cal_r_s\n",
    "\n",
    "elif metric == 'epi':\n",
    "    get_ruggedness = cal_epi\n",
    "\n",
    "elif metric == 'open_ratio':\n",
    "    get_ruggedness = cal_open_ratio\n",
    "    \n",
    "    "
   ]
  },
  {
   "cell_type": "code",
   "execution_count": null,
   "metadata": {},
   "outputs": [],
   "source": [
    "plot_dict = {'std':[],metric:[]}\n",
    "for idx in range(20):\n",
    "    std = 10/(idx+1)\n",
    "    print(idx,'  ',end='\\r')\n",
    "    for j in range(100):\n",
    "        plot_dict['std'].append(std)\n",
    "        ruggedness = get_ruggedness(RMF_landscape_list[idx][j])\n",
    "        plot_dict[metric].append(ruggedness)\n",
    "plot_df = pd.DataFrame(plot_dict)"
   ]
  },
  {
   "cell_type": "code",
   "execution_count": null,
   "metadata": {},
   "outputs": [],
   "source": [
    "# Uncomment only if you want to overwrite files in plot_df_data folder.\n",
    "# with open(f'./plot_df_data/RMF_{metric}_stratified_plot_df.pkl', 'wb') as f:\n",
    "#     pickle.dump(plot_df,f)"
   ]
  }
 ],
 "metadata": {
  "kernelspec": {
   "display_name": "Python 3",
   "language": "python",
   "name": "python3"
  },
  "language_info": {
   "codemirror_mode": {
    "name": "ipython",
    "version": 3
   },
   "file_extension": ".py",
   "mimetype": "text/x-python",
   "name": "python",
   "nbconvert_exporter": "python",
   "pygments_lexer": "ipython3",
   "version": "3.7.4"
  }
 },
 "nbformat": 4,
 "nbformat_minor": 4
}
