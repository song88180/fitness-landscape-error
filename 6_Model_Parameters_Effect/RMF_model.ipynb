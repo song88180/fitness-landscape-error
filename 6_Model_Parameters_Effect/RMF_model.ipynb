{
 "cells": [
  {
   "cell_type": "code",
   "execution_count": null,
   "metadata": {
    "scrolled": false
   },
   "outputs": [],
   "source": [
    "import os\n",
    "import sys\n",
    "import numpy as np\n",
    "import numpy.random as nrand\n",
    "import matplotlib\n",
    "import matplotlib.pyplot as plt\n",
    "import seaborn as sns\n",
    "import pandas as pd\n",
    "import pickle\n",
    "import copy\n",
    "from sklearn.linear_model import LinearRegression\n",
    "currentdir = os.path.abspath('')\n",
    "targetdir = os.path.dirname(currentdir)+'/utils'\n",
    "sys.path.append(targetdir)\n",
    "from utils import *"
   ]
  },
  {
   "cell_type": "code",
   "execution_count": 2,
   "metadata": {},
   "outputs": [],
   "source": [
    "# Load raw FL data\n",
    "with open('./FL_stratified/RMF_landscape_stratified.pkl', 'rb') as f:\n",
    "    RMF_landscape_list = pickle.load(f)"
   ]
  },
  {
   "cell_type": "code",
   "execution_count": 3,
   "metadata": {},
   "outputs": [],
   "source": [
    "# Change the parameter to select different ruggedness measure.\n",
    "metric = 'open_ratio' # 'N_max', 'epi', 'r_s', 'open_ratio'\n",
    "N=10 # N=10 is the defalt value\n",
    "load_pregenerated_data(N) # Load index files\n",
    "# Initialize get_ruggedness function to calculate a specific ruggedness measure\n",
    "get_ruggedness = get_ruggedness_function(metric,N,gt_code=RMF_landscape_list[1][0][:,:N])"
   ]
  },
  {
   "cell_type": "code",
   "execution_count": 5,
   "metadata": {},
   "outputs": [
    {
     "name": "stdout",
     "output_type": "stream",
     "text": [
      "19   \r"
     ]
    }
   ],
   "source": [
    "# Ranging std from 0.5 to 10\n",
    "# Record std and corresponding ruggedness\n",
    "\n",
    "plot_dict = {'std':[],metric:[]}\n",
    "for idx in range(20):\n",
    "    std = 10/(idx+1)\n",
    "    print(idx,'  ',end='\\r')\n",
    "    for j in range(100):\n",
    "        plot_dict['std'].append(std)\n",
    "        ruggedness = get_ruggedness(RMF_landscape_list[idx][j])\n",
    "        plot_dict[metric].append(ruggedness)\n",
    "plot_df = pd.DataFrame(plot_dict)"
   ]
  },
  {
   "cell_type": "code",
   "execution_count": 8,
   "metadata": {},
   "outputs": [],
   "source": [
    "# Uncomment only if you want to overwrite files in plot_df_data folder.\n",
    "# with open(f'./plot_df_data/RMF_{metric}_stratified_plot_df.pkl', 'wb') as f:\n",
    "#     pickle.dump(plot_df,f)"
   ]
  }
 ],
 "metadata": {
  "kernelspec": {
   "display_name": "Python 3",
   "language": "python",
   "name": "python3"
  },
  "language_info": {
   "codemirror_mode": {
    "name": "ipython",
    "version": 3
   },
   "file_extension": ".py",
   "mimetype": "text/x-python",
   "name": "python",
   "nbconvert_exporter": "python",
   "pygments_lexer": "ipython3",
   "version": "3.8.8"
  }
 },
 "nbformat": 4,
 "nbformat_minor": 4
}
