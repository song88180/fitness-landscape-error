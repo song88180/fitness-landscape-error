{
 "cells": [
  {
   "cell_type": "code",
   "execution_count": null,
   "metadata": {},
   "outputs": [],
   "source": [
    "import numpy as np\n",
    "import numpy.random as nrand\n",
    "import pandas as pd\n",
    "import matplotlib.pyplot as plt\n",
    "import pickle\n",
    "import itertools\n",
    "from itertools import combinations\n",
    "import copy\n",
    "from matplotlib.ticker import FormatStrFormatter\n",
    "from sklearn.linear_model import Ridge"
   ]
  },
  {
   "cell_type": "code",
   "execution_count": null,
   "metadata": {},
   "outputs": [],
   "source": [
    "Y_MIN = -0.6931471805599453\n",
    "Y_MAX = 0.942657031435126"
   ]
  },
  {
   "cell_type": "code",
   "execution_count": null,
   "metadata": {},
   "outputs": [],
   "source": [
    "def load_sequence(sequences):\n",
    "    BASES = np.asarray(['A','C','G'])\n",
    "    shape = sequences.shape\n",
    "    data = sequences[..., None] == BASES\n",
    "    return data.reshape(shape[0], shape[1] * BASES.size)\n",
    "\n",
    "def tolog(y,Y_MIN,Y_MAX):\n",
    "    y = np.log(y)\n",
    "    y = y - Y_MIN\n",
    "    y = y/Y_MAX\n",
    "    return y"
   ]
  },
  {
   "cell_type": "code",
   "execution_count": null,
   "metadata": {},
   "outputs": [],
   "source": [
    "with open(\"All_data_df.pkl\",'rb') as f:\n",
    "    data = pickle.load(f)"
   ]
  },
  {
   "cell_type": "code",
   "execution_count": null,
   "metadata": {},
   "outputs": [],
   "source": [
    "# Filter genotypes that have at least 2 fitness measure higher than 0.5\n",
    "data_filtered = data[np.sum(data[['FitS1','FitS2','FitS3','FitS4','FitS5','FitS6']] == 0.5,axis=1) < 5]"
   ]
  },
  {
   "cell_type": "code",
   "execution_count": null,
   "metadata": {},
   "outputs": [],
   "source": [
    "sequences = np.array(list(map(list,data_filtered['Seq'])))\n",
    "x = load_sequence(sequences)  # one-hot encoding for A,C,G.\n",
    "y = tolog(np.asarray(data_filtered['Fit']),Y_MIN,Y_MAX)"
   ]
  },
  {
   "cell_type": "code",
   "execution_count": null,
   "metadata": {},
   "outputs": [],
   "source": [
    "# Change the parameter to select different ruggedness measure\n",
    "metric = 'N_max' # 'N_max','epi','r_s','open_ratio'"
   ]
  },
  {
   "cell_type": "code",
   "execution_count": null,
   "metadata": {},
   "outputs": [],
   "source": [
    "if metric == 'N_max':\n",
    "    with open('../index_file/trna_neighbor_list.pkl','rb') as f:\n",
    "        neighbor_list = pickle.load(f)\n",
    "\n",
    "elif metric == 'epi':\n",
    "    with open('../index_file/trna_epi_square_list.pkl','rb') as f:\n",
    "        res_set = pickle.load(f)\n",
    "    \n",
    "elif metric == 'open_ratio':\n",
    "    with open('../index_file/trna_pathway_list_4steps_300000.pkl','rb') as f:\n",
    "        pathway_list = pickle.load(f)"
   ]
  },
  {
   "cell_type": "code",
   "execution_count": null,
   "metadata": {},
   "outputs": [],
   "source": [
    "def get_N_max(y):\n",
    "    N_max = 0\n",
    "    for i in range(len(y)):\n",
    "        fit = y[i]\n",
    "        if np.sum(fit <= y[neighbor_list[i]])==0:\n",
    "            N_max += 1\n",
    "    return N_max\n",
    "\n",
    "def cal_epi(y):\n",
    "    epi_fit_list = y[res_set]\n",
    "    n_epi = np.sum(np.sum(epi_fit_list[:,[0,0,3,3]] > epi_fit_list[:,[1,2,1,2]],axis=1)==4)\n",
    "    n_epi += np.sum(np.sum(epi_fit_list[:,[0,0,3,3]] < epi_fit_list[:,[1,2,1,2]],axis=1)==4)\n",
    "    return n_epi/len(epi_fit_list)\n",
    "\n",
    "def cal_r_s(y):\n",
    "    # x is a global variable with each row being a one-hot encode sequence for the corresponding genotype.\n",
    "    reg = Ridge(fit_intercept=True).fit(x, y)\n",
    "    y_predict = reg.predict(x)\n",
    "    roughness = np.sqrt(np.mean(np.square(y - y_predict)))\n",
    "    slope = np.mean(np.abs(reg.coef_))\n",
    "    return roughness/slope\n",
    "\n",
    "def cal_open_ratio(y):\n",
    "    diff = y[pathway_list[:,:-1]] - y[pathway_list[:,1:]] \n",
    "    open_descend = np.sum(np.sum(diff >= 0,axis=1) == pathway_list.shape[1]-1)\n",
    "    open_ascend = np.sum(np.sum(diff <= 0,axis=1) == pathway_list.shape[1]-1)\n",
    "    total_open = open_descend + open_ascend\n",
    "    return total_open/len(pathway_list)\n",
    "\n",
    "if metric == 'N_max':\n",
    "    get_ruggedness = get_N_max\n",
    "\n",
    "elif metric == 'epi':\n",
    "    get_ruggedness = cal_epi\n",
    "\n",
    "elif metric == 'r_s':\n",
    "    get_ruggedness = cal_r_s\n",
    "\n",
    "elif metric == 'open_ratio':\n",
    "    get_ruggedness = cal_open_ratio"
   ]
  },
  {
   "cell_type": "code",
   "execution_count": null,
   "metadata": {},
   "outputs": [],
   "source": [
    "duplicates_list = ['FitS1','FitS2','FitS3','FitS4','FitS5','FitS6']\n",
    "res_dict = {i:[] for i in range(1,7)}\n",
    "for replication in range(1,7):\n",
    "    print(replication,end='\\r')\n",
    "    if replication == 1:\n",
    "        iter_list = duplicates_list\n",
    "        for duplicate in iter_list:\n",
    "            y = tolog(np.asarray(data_filtered[duplicate]),Y_MIN,Y_MAX)\n",
    "            res_dict[replication].append(get_ruggedness(y))\n",
    "    else:\n",
    "        iter_list = combinations(duplicates_list,replication)   \n",
    "        for duplicate in iter_list:\n",
    "            y = tolog(np.sum(np.asarray(data_filtered[list(duplicate)]),axis=1),Y_MIN,Y_MAX)\n",
    "            res_dict[replication].append(get_ruggedness(y))\n",
    "        "
   ]
  },
  {
   "cell_type": "code",
   "execution_count": null,
   "metadata": {},
   "outputs": [],
   "source": [
    "# Uncomment only if you want to overwrite trna_raw_data folder.\n",
    "# with open(f'./trna_raw_data/trna_{metric}_plot.pkl','wb') as f:\n",
    "#     pickle.dump(res_dict,f)"
   ]
  }
 ],
 "metadata": {
  "kernelspec": {
   "display_name": "Python 3",
   "language": "python",
   "name": "python3"
  },
  "language_info": {
   "codemirror_mode": {
    "name": "ipython",
    "version": 3
   },
   "file_extension": ".py",
   "mimetype": "text/x-python",
   "name": "python",
   "nbconvert_exporter": "python",
   "pygments_lexer": "ipython3",
   "version": "3.7.4"
  }
 },
 "nbformat": 4,
 "nbformat_minor": 2
}
